{
 "metadata": {
  "name": "",
  "signature": "sha256:e9dd7fb02f2ddb2f6d3de6e9c46e0135c32bd9b3b4af55068a760e27d0525ffe"
 },
 "nbformat": 3,
 "nbformat_minor": 0,
 "worksheets": [
  {
   "cells": [
    {
     "cell_type": "code",
     "collapsed": false,
     "input": [
      "import tensorflow as tf"
     ],
     "language": "python",
     "metadata": {},
     "outputs": [],
     "prompt_number": 4
    },
    {
     "cell_type": "code",
     "collapsed": false,
     "input": [
      "tf.set_random_seed(777)"
     ],
     "language": "python",
     "metadata": {},
     "outputs": [],
     "prompt_number": 5
    },
    {
     "cell_type": "code",
     "collapsed": false,
     "input": [
      "#input and output data\n",
      "x_train = [1,2,3]\n",
      "y_tarin = [1,2,3]\n"
     ],
     "language": "python",
     "metadata": {},
     "outputs": [],
     "prompt_number": 6
    },
    {
     "cell_type": "code",
     "collapsed": false,
     "input": [
      "w = tf.Variable(tf.random_normal([1]), name=\"weight\")\n",
      "b = tf.Variable(tf.random_normal([1]), name=\"bias\")\n"
     ],
     "language": "python",
     "metadata": {},
     "outputs": [],
     "prompt_number": 8
    },
    {
     "cell_type": "code",
     "collapsed": false,
     "input": [
      "#Hypothesis\n",
      "hypo = x_train * w +b"
     ],
     "language": "python",
     "metadata": {},
     "outputs": [],
     "prompt_number": 9
    },
    {
     "cell_type": "code",
     "collapsed": false,
     "input": [
      "# cost/ loss function\n",
      "cost = tf.reduce_mean(tf.square(hypo - y_tarin))\n"
     ],
     "language": "python",
     "metadata": {},
     "outputs": [],
     "prompt_number": 11
    },
    {
     "cell_type": "code",
     "collapsed": false,
     "input": [
      "#Minimize\n",
      "optimizer = tf.train.GradientDescentOptimizer(learning_rate = 0.01)\n",
      "train = optimizer.minimize(cost)"
     ],
     "language": "python",
     "metadata": {},
     "outputs": [],
     "prompt_number": 12
    },
    {
     "cell_type": "code",
     "collapsed": false,
     "input": [
      "#Launch the graph in a section\n",
      "sess = tf.Session()\n",
      "#Initialise global Variable in graph\n",
      "sess.run(tf.global_variables_initializer())"
     ],
     "language": "python",
     "metadata": {},
     "outputs": [],
     "prompt_number": 16
    },
    {
     "cell_type": "code",
     "collapsed": false,
     "input": [
      "for step in range(20000):\n",
      "    sess.run(train)\n",
      "    if step % 20 == 0:\n",
      "        print (step, sess.run(cost), sess.run(w), sess.run(b))"
     ],
     "language": "python",
     "metadata": {},
     "outputs": [
      {
       "output_type": "stream",
       "stream": "stdout",
       "text": [
        "(0, 21.714548, array([-0.34423098], dtype=float32), array([-1.840325], dtype=float32))\n",
        "(20, 0.33813933, array([ 1.26688516], dtype=float32), array([-1.07289386], dtype=float32))\n",
        "(40, 0.1313601, array([ 1.4017365], dtype=float32), array([-0.9576329], dtype=float32))\n",
        "(60, 0.11770993, array([ 1.39689124], dtype=float32), array([-0.90645379], dtype=float32))\n",
        "(80, 0.10689157, array([ 1.37957513], dtype=float32), array([-0.86326593], dtype=float32))"
       ]
      },
      {
       "output_type": "stream",
       "stream": "stdout",
       "text": [
        "\n",
        "(100, 0.097080506, array([ 1.36186385], dtype=float32), array([-0.8226397], dtype=float32))\n",
        "(120, 0.088170134, array([ 1.34486961], dtype=float32), array([-0.78397346], dtype=float32))\n",
        "(140, 0.080077514, array([ 1.32866311], dtype=float32), array([-0.74712902], dtype=float32))\n",
        "(160, 0.072727688, array([ 1.3132174], dtype=float32), array([-0.71201676], dtype=float32))"
       ]
      },
      {
       "output_type": "stream",
       "stream": "stdout",
       "text": [
        "\n",
        "(180, 0.066052459, array([ 1.2984972], dtype=float32), array([-0.67855459], dtype=float32))\n",
        "(200, 0.059989881, array([ 1.28446913], dtype=float32), array([-0.64666486], dtype=float32))\n",
        "(220, 0.054483783, array([ 1.27110004], dtype=float32), array([-0.616274], dtype=float32))\n",
        "(240, 0.049483005, array([ 1.25835919], dtype=float32), array([-0.58731127], dtype=float32))"
       ]
      },
      {
       "output_type": "stream",
       "stream": "stdout",
       "text": [
        "\n",
        "(260, 0.044941287, array([ 1.24621737], dtype=float32), array([-0.55970985], dtype=float32))\n",
        "(280, 0.040816389, array([ 1.23464596], dtype=float32), array([-0.53340554], dtype=float32))\n",
        "(300, 0.037070125, array([ 1.22361863], dtype=float32), array([-0.50833756], dtype=float32))\n",
        "(320, 0.03366765, array([ 1.21310925], dtype=float32), array([-0.4844476], dtype=float32))\n",
        "(340, 0.03057754, array([ 1.20309412], dtype=float32), array([-0.46168038], dtype=float32))\n",
        "(360, 0.027771024, array([ 1.19354939], dtype=float32), array([-0.43998322], dtype=float32))"
       ]
      },
      {
       "output_type": "stream",
       "stream": "stdout",
       "text": [
        "\n",
        "(380, 0.025222071, array([ 1.18445313], dtype=float32), array([-0.41930559], dtype=float32))\n",
        "(400, 0.022907086, array([ 1.17578459], dtype=float32), array([-0.39959967], dtype=float32))\n",
        "(420, 0.02080458, array([ 1.16752338], dtype=float32), array([-0.38081992], dtype=float32))\n",
        "(440, 0.018895051, array([ 1.15965033], dtype=float32), array([-0.36292276], dtype=float32))"
       ]
      },
      {
       "output_type": "stream",
       "stream": "stdout",
       "text": [
        "\n",
        "(460, 0.017160792, array([ 1.15214741], dtype=float32), array([-0.34586674], dtype=float32))\n",
        "(480, 0.015585714, array([ 1.14499712], dtype=float32), array([-0.32961237], dtype=float32))\n",
        "(500, 0.014155199, array([ 1.13818276], dtype=float32), array([-0.3141219], dtype=float32))\n",
        "(520, 0.012855981, array([ 1.13168871], dtype=float32), array([-0.29935932], dtype=float32))"
       ]
      },
      {
       "output_type": "stream",
       "stream": "stdout",
       "text": [
        "\n",
        "(540, 0.011676006, array([ 1.12549984], dtype=float32), array([-0.28529051], dtype=float32))\n",
        "(560, 0.010604315, array([ 1.11960161], dtype=float32), array([-0.27188283], dtype=float32))\n",
        "(580, 0.0096310191, array([ 1.11398077], dtype=float32), array([-0.25910532], dtype=float32))\n",
        "(600, 0.0087470375, array([ 1.10862422], dtype=float32), array([-0.24692833], dtype=float32))"
       ]
      },
      {
       "output_type": "stream",
       "stream": "stdout",
       "text": [
        "\n",
        "(620, 0.0079441983, array([ 1.1035192], dtype=float32), array([-0.23532359], dtype=float32))\n",
        "(640, 0.0072150449, array([ 1.09865415], dtype=float32), array([-0.22426419], dtype=float32))\n",
        "(660, 0.006552814, array([ 1.09401786], dtype=float32), array([-0.21372457], dtype=float32))\n",
        "(680, 0.0059513883, array([ 1.08959937], dtype=float32), array([-0.20368037], dtype=float32))\n",
        "(700, 0.0054051299, array([ 1.08538854], dtype=float32), array([-0.19410814], dtype=float32))\n",
        "(720, 0.0049090227, array([ 1.08137548], dtype=float32), array([-0.18498577], dtype=float32))"
       ]
      },
      {
       "output_type": "stream",
       "stream": "stdout",
       "text": [
        "\n",
        "(740, 0.0044584642, array([ 1.07755113], dtype=float32), array([-0.17629205], dtype=float32))\n",
        "(760, 0.0040492513, array([ 1.07390654], dtype=float32), array([-0.16800697], dtype=float32))\n",
        "(780, 0.0036775882, array([ 1.07043314], dtype=float32), array([-0.16011123], dtype=float32))\n",
        "(800, 0.0033400424, array([ 1.06712306], dtype=float32), array([-0.15258661], dtype=float32))\n",
        "(820, 0.0030334757, array([ 1.06396854], dtype=float32), array([-0.14541557], dtype=float32))"
       ]
      },
      {
       "output_type": "stream",
       "stream": "stdout",
       "text": [
        "\n",
        "(840, 0.002755055, array([ 1.06096256], dtype=float32), array([-0.13858163], dtype=float32))\n",
        "(860, 0.0025021853, array([ 1.05809724], dtype=float32), array([-0.13206875], dtype=float32))\n",
        "(880, 0.0022725218, array([ 1.05536687], dtype=float32), array([-0.12586196], dtype=float32))\n",
        "(900, 0.002063937, array([ 1.05276477], dtype=float32), array([-0.1199469], dtype=float32))\n",
        "(920, 0.001874505, array([ 1.05028522], dtype=float32), array([-0.11430984], dtype=float32))"
       ]
      },
      {
       "output_type": "stream",
       "stream": "stdout",
       "text": [
        "\n",
        "(940, 0.0017024571, array([ 1.0479219], dtype=float32), array([-0.10893773], dtype=float32))\n",
        "(960, 0.0015461963, array([ 1.04566979], dtype=float32), array([-0.10381807], dtype=float32))\n",
        "(980, 0.0014042867, array([ 1.04352343], dtype=float32), array([-0.09893901], dtype=float32))\n",
        "(1000, 0.0012753884, array([ 1.04147804], dtype=float32), array([-0.09428922], dtype=float32))\n",
        "(1020, 0.0011583284, array([ 1.03952849], dtype=float32), array([-0.08985796], dtype=float32))"
       ]
      },
      {
       "output_type": "stream",
       "stream": "stdout",
       "text": [
        "\n",
        "(1040, 0.00105201, array([ 1.03767097], dtype=float32), array([-0.08563489], dtype=float32))\n",
        "(1060, 0.00095545157, array([ 1.03590047], dtype=float32), array([-0.08161039], dtype=float32))\n",
        "(1080, 0.00086775929, array([ 1.0342133], dtype=float32), array([-0.07777499], dtype=float32))\n",
        "(1100, 0.00078811188, array([ 1.03260541], dtype=float32), array([-0.07411982], dtype=float32))\n",
        "(1120, 0.00071577547, array([ 1.03107309], dtype=float32), array([-0.07063647], dtype=float32))"
       ]
      },
      {
       "output_type": "stream",
       "stream": "stdout",
       "text": [
        "\n",
        "(1140, 0.00065007969, array([ 1.02961266], dtype=float32), array([-0.06731674], dtype=float32))\n",
        "(1160, 0.00059041061, array([ 1.02822101], dtype=float32), array([-0.06415305], dtype=float32))\n",
        "(1180, 0.00053622032, array([ 1.02689469], dtype=float32), array([-0.06113807], dtype=float32))\n",
        "(1200, 0.00048700304, array([ 1.02563083], dtype=float32), array([-0.05826481], dtype=float32))\n",
        "(1220, 0.00044230616, array([ 1.02442622], dtype=float32), array([-0.0555266], dtype=float32))"
       ]
      },
      {
       "output_type": "stream",
       "stream": "stdout",
       "text": [
        "\n",
        "(1240, 0.00040170838, array([ 1.02327824], dtype=float32), array([-0.05291706], dtype=float32))\n",
        "(1260, 0.00036483983, array([ 1.02218437], dtype=float32), array([-0.05043016], dtype=float32))\n",
        "(1280, 0.00033135188, array([ 1.02114189], dtype=float32), array([-0.04806018], dtype=float32))\n",
        "(1300, 0.00030094499, array([ 1.02014852], dtype=float32), array([-0.04580174], dtype=float32))\n",
        "(1320, 0.00027331829, array([ 1.01920116], dtype=float32), array([-0.04364919], dtype=float32))\n",
        "(1340, 0.00024823213, array([ 1.01829886], dtype=float32), array([-0.04159778], dtype=float32))"
       ]
      },
      {
       "output_type": "stream",
       "stream": "stdout",
       "text": [
        "\n",
        "(1360, 0.00022544876, array([ 1.01743889], dtype=float32), array([-0.03964282], dtype=float32))\n",
        "(1380, 0.00020475652, array([ 1.01661932], dtype=float32), array([-0.03777972], dtype=float32))\n",
        "(1400, 0.00018596421, array([ 1.01583827], dtype=float32), array([-0.03600417], dtype=float32))\n",
        "(1420, 0.00016889501, array([ 1.01509392], dtype=float32), array([-0.03431208], dtype=float32))\n",
        "(1440, 0.00015339167, array([ 1.01438463], dtype=float32), array([-0.03269956], dtype=float32))\n",
        "(1460, 0.00013931384, array([ 1.01370859], dtype=float32), array([-0.0311628], dtype=float32))\n",
        "(1480, 0.00012652476, array([ 1.01306427], dtype=float32), array([-0.02969825], dtype=float32))"
       ]
      },
      {
       "output_type": "stream",
       "stream": "stdout",
       "text": [
        "\n",
        "(1500, 0.00011491479, array([ 1.01245034], dtype=float32), array([-0.02830253], dtype=float32))\n",
        "(1520, 0.00010436672, array([ 1.01186526], dtype=float32), array([-0.02697246], dtype=float32))\n",
        "(1540, 9.4786556e-05, array([ 1.0113076], dtype=float32), array([-0.02570487], dtype=float32))\n",
        "(1560, 8.6088105e-05, array([ 1.01077628], dtype=float32), array([-0.02449686], dtype=float32))\n",
        "(1580, 7.8185643e-05, array([ 1.01026964], dtype=float32), array([-0.02334562], dtype=float32))\n",
        "(1600, 7.100917e-05, array([ 1.00978696], dtype=float32), array([-0.02224837], dtype=float32))"
       ]
      },
      {
       "output_type": "stream",
       "stream": "stdout",
       "text": [
        "\n",
        "(1620, 6.4491665e-05, array([ 1.00932705], dtype=float32), array([-0.02120273], dtype=float32))\n",
        "(1640, 5.8572285e-05, array([ 1.00888872], dtype=float32), array([-0.02020626], dtype=float32))\n",
        "(1660, 5.3195923e-05, array([ 1.00847101], dtype=float32), array([-0.01925661], dtype=float32))\n",
        "(1680, 4.8313483e-05, array([ 1.00807285], dtype=float32), array([-0.01835161], dtype=float32))\n",
        "(1700, 4.387891e-05, array([ 1.00769341], dtype=float32), array([-0.01748913], dtype=float32))"
       ]
      },
      {
       "output_type": "stream",
       "stream": "stdout",
       "text": [
        "\n",
        "(1720, 3.9852232e-05, array([ 1.00733197], dtype=float32), array([-0.0166672], dtype=float32))\n",
        "(1740, 3.6193811e-05, array([ 1.00698733], dtype=float32), array([-0.01588391], dtype=float32))\n",
        "(1760, 3.2871336e-05, array([ 1.00665891], dtype=float32), array([-0.01513741], dtype=float32))\n",
        "(1780, 2.9854522e-05, array([ 1.00634599], dtype=float32), array([-0.01442599], dtype=float32))\n",
        "(1800, 2.7114447e-05, array([ 1.00604773], dtype=float32), array([-0.013748], dtype=float32))\n",
        "(1820, 2.4625793e-05, array([ 1.00576353], dtype=float32), array([-0.0131019], dtype=float32))"
       ]
      },
      {
       "output_type": "stream",
       "stream": "stdout",
       "text": [
        "\n",
        "(1840, 2.2365215e-05, array([ 1.00549269], dtype=float32), array([-0.01248616], dtype=float32))\n",
        "(1860, 2.0312351e-05, array([ 1.0052346], dtype=float32), array([-0.0118994], dtype=float32))\n",
        "(1880, 1.8448016e-05, array([ 1.00498855], dtype=float32), array([-0.01134016], dtype=float32))\n",
        "(1900, 1.6755375e-05, array([ 1.00475419], dtype=float32), array([-0.01080723], dtype=float32))\n",
        "(1920, 1.521699e-05, array([ 1.00453067], dtype=float32), array([-0.01029934], dtype=float32))\n",
        "(1940, 1.3821288e-05, array([ 1.00431788], dtype=float32), array([-0.00981533], dtype=float32))\n",
        "(1960, 1.2552198e-05, array([ 1.00411499], dtype=float32), array([-0.00935412], dtype=float32))"
       ]
      },
      {
       "output_type": "stream",
       "stream": "stdout",
       "text": [
        "\n",
        "(1980, 1.1400789e-05, array([ 1.00392163], dtype=float32), array([-0.00891455], dtype=float32))\n",
        "(2000, 1.0354176e-05, array([ 1.00373721], dtype=float32), array([-0.00849563], dtype=float32))\n",
        "(2020, 9.4038542e-06, array([ 1.00356162], dtype=float32), array([-0.00809638], dtype=float32))\n",
        "(2040, 8.5407892e-06, array([ 1.00339425], dtype=float32), array([-0.00771591], dtype=float32))\n",
        "(2060, 7.7568229e-06, array([ 1.00323474], dtype=float32), array([-0.00735334], dtype=float32))\n",
        "(2080, 7.0448764e-06, array([ 1.00308275], dtype=float32), array([-0.00700776], dtype=float32))"
       ]
      },
      {
       "output_type": "stream",
       "stream": "stdout",
       "text": [
        "\n",
        "(2100, 6.3986372e-06, array([ 1.00293791], dtype=float32), array([-0.00667842], dtype=float32))\n",
        "(2120, 5.8110868e-06, array([ 1.00279975], dtype=float32), array([-0.00636459], dtype=float32))\n",
        "(2140, 5.2774944e-06, array([ 1.00266826], dtype=float32), array([-0.00606549], dtype=float32))\n",
        "(2160, 4.7932685e-06, array([ 1.00254285], dtype=float32), array([-0.00578046], dtype=float32))\n",
        "(2180, 4.3535888e-06, array([ 1.00242341], dtype=float32), array([-0.00550882], dtype=float32))\n",
        "(2200, 3.9539764e-06, array([ 1.00230944], dtype=float32), array([-0.00524994], dtype=float32))\n",
        "(2220, 3.5909113e-06, array([ 1.00220096], dtype=float32), array([-0.00500323], dtype=float32))"
       ]
      },
      {
       "output_type": "stream",
       "stream": "stdout",
       "text": [
        "\n",
        "(2240, 3.2615396e-06, array([ 1.00209761], dtype=float32), array([-0.00476814], dtype=float32))\n",
        "(2260, 2.9622781e-06, array([ 1.00199902], dtype=float32), array([-0.00454415], dtype=float32))\n",
        "(2280, 2.6905593e-06, array([ 1.00190508], dtype=float32), array([-0.00433064], dtype=float32))\n",
        "(2300, 2.4435319e-06, array([ 1.00181556], dtype=float32), array([-0.00412718], dtype=float32))\n",
        "(2320, 2.2192985e-06, array([ 1.00173032], dtype=float32), array([-0.00393322], dtype=float32))\n",
        "(2340, 2.0157802e-06, array([ 1.00164902], dtype=float32), array([-0.00374841], dtype=float32))\n",
        "(2360, 1.8306793e-06, array([ 1.00157154], dtype=float32), array([-0.00357231], dtype=float32))"
       ]
      },
      {
       "output_type": "stream",
       "stream": "stdout",
       "text": [
        "\n",
        "(2380, 1.6627919e-06, array([ 1.00149775], dtype=float32), array([-0.00340446], dtype=float32))\n",
        "(2400, 1.5101167e-06, array([ 1.00142741], dtype=float32), array([-0.00324455], dtype=float32))\n",
        "(2420, 1.3716739e-06, array([ 1.0013603], dtype=float32), array([-0.00309216], dtype=float32))\n",
        "(2440, 1.2459205e-06, array([ 1.00129652], dtype=float32), array([-0.00294694], dtype=float32))\n",
        "(2460, 1.1316608e-06, array([ 1.00123572], dtype=float32), array([-0.00280855], dtype=float32))\n",
        "(2480, 1.0277649e-06, array([ 1.00117767], dtype=float32), array([-0.00267669], dtype=float32))\n",
        "(2500, 9.3353577e-07, array([ 1.00112224], dtype=float32), array([-0.00255099], dtype=float32))"
       ]
      },
      {
       "output_type": "stream",
       "stream": "stdout",
       "text": [
        "\n",
        "(2520, 8.4799672e-07, array([ 1.00106955], dtype=float32), array([-0.00243123], dtype=float32))\n",
        "(2540, 7.7023839e-07, array([ 1.00101924], dtype=float32), array([-0.00231705], dtype=float32))\n",
        "(2560, 6.9964705e-07, array([ 1.00097144], dtype=float32), array([-0.00220828], dtype=float32))\n",
        "(2580, 6.3540807e-07, array([ 1.0009259], dtype=float32), array([-0.0021046], dtype=float32))\n",
        "(2600, 5.7722309e-07, array([ 1.00088263], dtype=float32), array([-0.00200584], dtype=float32))\n",
        "(2620, 5.2441771e-07, array([ 1.00084126], dtype=float32), array([-0.00191171], dtype=float32))\n",
        "(2640, 4.7628541e-07, array([ 1.0008018], dtype=float32), array([-0.00182199], dtype=float32))"
       ]
      },
      {
       "output_type": "stream",
       "stream": "stdout",
       "text": [
        "\n",
        "(2660, 4.3270256e-07, array([ 1.00076401], dtype=float32), array([-0.00173652], dtype=float32))\n",
        "(2680, 3.9295014e-07, array([ 1.00072813], dtype=float32), array([-0.00165505], dtype=float32))\n",
        "(2700, 3.5694052e-07, array([ 1.00069416], dtype=float32), array([-0.00157735], dtype=float32))\n",
        "(2720, 3.2423148e-07, array([ 1.00066137], dtype=float32), array([-0.0015033], dtype=float32))\n",
        "(2740, 2.9450422e-07, array([ 1.00063038], dtype=float32), array([-0.00143281], dtype=float32))\n",
        "(2760, 2.6751985e-07, array([ 1.00060105], dtype=float32), array([-0.00136555], dtype=float32))\n",
        "(2780, 2.4299706e-07, array([ 1.00057244], dtype=float32), array([-0.00130155], dtype=float32))"
       ]
      },
      {
       "output_type": "stream",
       "stream": "stdout",
       "text": [
        "\n",
        "(2800, 2.208662e-07, array([ 1.0005461], dtype=float32), array([-0.00124054], dtype=float32))\n",
        "(2820, 2.0053101e-07, array([ 1.00052011], dtype=float32), array([-0.00118238], dtype=float32))\n",
        "(2840, 1.8225511e-07, array([ 1.00049615], dtype=float32), array([-0.00112699], dtype=float32))\n",
        "(2860, 1.6552052e-07, array([ 1.00047243], dtype=float32), array([-0.00107417], dtype=float32))\n",
        "(2880, 1.5044685e-07, array([ 1.00045073], dtype=float32), array([-0.0010238], dtype=float32))\n",
        "(2900, 1.3665627e-07, array([ 1.00042927], dtype=float32), array([-0.00097588], dtype=float32))"
       ]
      },
      {
       "output_type": "stream",
       "stream": "stdout",
       "text": [
        "\n",
        "(2920, 1.2411657e-07, array([ 1.00040936], dtype=float32), array([-0.00093006], dtype=float32))\n",
        "(2940, 1.1277975e-07, array([ 1.00039029], dtype=float32), array([-0.0008866], dtype=float32))\n",
        "(2960, 1.0242028e-07, array([ 1.00037169], dtype=float32), array([-0.00084497], dtype=float32))\n",
        "(2980, 9.3061296e-08, array([ 1.00035465], dtype=float32), array([-0.00080539], dtype=float32))\n",
        "(3000, 8.4591399e-08, array([ 1.00033796], dtype=float32), array([-0.00076781], dtype=float32))\n",
        "(3020, 7.6804611e-08, array([ 1.00032187], dtype=float32), array([-0.0007317], dtype=float32))"
       ]
      },
      {
       "output_type": "stream",
       "stream": "stdout",
       "text": [
        "\n",
        "(3040, 6.9812408e-08, array([ 1.00030708], dtype=float32), array([-0.00069744], dtype=float32))\n",
        "(3060, 6.3449285e-08, array([ 1.00029278], dtype=float32), array([-0.00066492], dtype=float32))\n",
        "(3080, 5.761564e-08, array([ 1.00027859], dtype=float32), array([-0.00063371], dtype=float32))\n",
        "(3100, 5.2331512e-08, array([ 1.00026584], dtype=float32), array([-0.00060393], dtype=float32))\n",
        "(3120, 4.7583608e-08, array([ 1.00025368], dtype=float32), array([-0.00057576], dtype=float32))"
       ]
      },
      {
       "output_type": "stream",
       "stream": "stdout",
       "text": [
        "\n",
        "(3140, 4.3245482e-08, array([ 1.00024176], dtype=float32), array([-0.00054899], dtype=float32))\n",
        "(3160, 3.9286196e-08, array([ 1.00022995], dtype=float32), array([-0.0005232], dtype=float32))\n",
        "(3180, 3.5667131e-08, array([ 1.00021935], dtype=float32), array([-0.00049857], dtype=float32))\n",
        "(3200, 3.2431586e-08, array([ 1.00020933], dtype=float32), array([-0.00047529], dtype=float32))\n",
        "(3220, 2.9489664e-08, array([ 1.00019979], dtype=float32), array([-0.00045324], dtype=float32))"
       ]
      },
      {
       "output_type": "stream",
       "stream": "stdout",
       "text": [
        "\n",
        "(3240, 2.6795055e-08, array([ 1.00019026], dtype=float32), array([-0.00043218], dtype=float32))\n",
        "(3260, 2.4323091e-08, array([ 1.00018096], dtype=float32), array([-0.00041181], dtype=float32))\n",
        "(3280, 2.2083725e-08, array([ 1.00017262], dtype=float32), array([-0.00039239], dtype=float32))\n",
        "(3300, 2.0073875e-08, array([ 1.00016475], dtype=float32), array([-0.00037402], dtype=float32))\n",
        "(3320, 1.8254037e-08, array([ 1.00015724], dtype=float32), array([-0.00035666], dtype=float32))"
       ]
      },
      {
       "output_type": "stream",
       "stream": "stdout",
       "text": [
        "\n",
        "(3340, 1.6612512e-08, array([ 1.00015008], dtype=float32), array([-0.00034022], dtype=float32))\n",
        "(3360, 1.5103206e-08, array([ 1.00014293], dtype=float32), array([-0.00032449], dtype=float32))\n",
        "(3380, 1.370194e-08, array([ 1.00013578], dtype=float32), array([-0.00030923], dtype=float32))\n",
        "(3400, 1.244485e-08, array([ 1.00012946], dtype=float32), array([-0.00029453], dtype=float32))\n",
        "(3420, 1.1298407e-08, array([ 1.0001235], dtype=float32), array([-0.00028064], dtype=float32))"
       ]
      },
      {
       "output_type": "stream",
       "stream": "stdout",
       "text": [
        "\n",
        "(3440, 1.0268574e-08, array([ 1.00011778], dtype=float32), array([-0.0002675], dtype=float32))\n",
        "(3460, 9.3349639e-09, array([ 1.00011241], dtype=float32), array([-0.00025508], dtype=float32))\n",
        "(3480, 8.5026626e-09, array([ 1.00010741], dtype=float32), array([-0.00024333], dtype=float32))\n",
        "(3500, 7.7550579e-09, array([ 1.00010264], dtype=float32), array([-0.00023224], dtype=float32))\n",
        "(3520, 7.0598922e-09, array([ 1.00009787], dtype=float32), array([-0.00022167], dtype=float32))"
       ]
      },
      {
       "output_type": "stream",
       "stream": "stdout",
       "text": [
        "\n",
        "(3540, 6.4180967e-09, array([ 1.0000931], dtype=float32), array([-0.00021144], dtype=float32))\n",
        "(3560, 5.8218128e-09, array([ 1.00008833], dtype=float32), array([-0.00020144], dtype=float32))\n",
        "(3580, 5.274194e-09, array([ 1.00008416], dtype=float32), array([-0.00019176], dtype=float32))\n",
        "(3600, 4.7831947e-09, array([ 1.00008023], dtype=float32), array([-0.0001826], dtype=float32))\n",
        "(3620, 4.3355897e-09, array([ 1.00007653], dtype=float32), array([-0.00017395], dtype=float32))"
       ]
      },
      {
       "output_type": "stream",
       "stream": "stdout",
       "text": [
        "\n",
        "(3640, 3.9452517e-09, array([ 1.00007296], dtype=float32), array([-0.00016578], dtype=float32))\n",
        "(3660, 3.5858914e-09, array([ 1.00006962], dtype=float32), array([-0.00015804], dtype=float32))\n",
        "(3680, 3.2644525e-09, array([ 1.00006652], dtype=float32), array([-0.00015074], dtype=float32))\n",
        "(3700, 2.9768816e-09, array([ 1.00006354], dtype=float32), array([-0.00014382], dtype=float32))\n",
        "(3720, 2.7101912e-09, array([ 1.00006068], dtype=float32), array([-0.00013728], dtype=float32))"
       ]
      },
      {
       "output_type": "stream",
       "stream": "stdout",
       "text": [
        "\n",
        "(3740, 2.4662097e-09, array([ 1.00005805], dtype=float32), array([-0.00013108], dtype=float32))\n",
        "(3760, 2.2579545e-09, array([ 1.00005555], dtype=float32), array([-0.00012523], dtype=float32))\n",
        "(3780, 2.0638946e-09, array([ 1.00005305], dtype=float32), array([-0.00011967], dtype=float32))\n",
        "(3800, 1.880063e-09, array([ 1.00005066], dtype=float32), array([-0.00011435], dtype=float32))\n",
        "(3820, 1.7164675e-09, array([ 1.00004828], dtype=float32), array([-0.00010922], dtype=float32))"
       ]
      },
      {
       "output_type": "stream",
       "stream": "stdout",
       "text": [
        "\n",
        "(3840, 1.5606408e-09, array([ 1.0000459], dtype=float32), array([-0.0001042], dtype=float32))\n",
        "(3860, 1.4156912e-09, array([ 1.00004351], dtype=float32), array([ -9.92699788e-05], dtype=float32))\n",
        "(3880, 1.277788e-09, array([ 1.00004113], dtype=float32), array([ -9.43979103e-05], dtype=float32))\n",
        "(3900, 1.1522173e-09, array([ 1.0000391], dtype=float32), array([ -8.96859565e-05], dtype=float32))\n",
        "(3920, 1.0378187e-09, array([ 1.00003719], dtype=float32), array([ -8.52354715e-05], dtype=float32))\n",
        "(3940, 9.4097763e-10, array([ 1.00003541], dtype=float32), array([ -8.10134734e-05], dtype=float32))"
       ]
      },
      {
       "output_type": "stream",
       "stream": "stdout",
       "text": [
        "\n",
        "(3960, 8.4778645e-10, array([ 1.00003374], dtype=float32), array([ -7.70195620e-05], dtype=float32))\n",
        "(3980, 7.7181639e-10, array([ 1.00003207], dtype=float32), array([ -7.32577100e-05], dtype=float32))\n",
        "(4000, 6.9679257e-10, array([ 1.00003052], dtype=float32), array([ -6.97044670e-05], dtype=float32))\n",
        "(4020, 6.312284e-10, array([ 1.00002909], dtype=float32), array([ -6.63352184e-05], dtype=float32))\n",
        "(4040, 5.7041544e-10, array([ 1.00002766], dtype=float32), array([ -6.31451985e-05], dtype=float32))\n",
        "(4060, 5.1940791e-10, array([ 1.00002646], dtype=float32), array([ -6.01347638e-05], dtype=float32))"
       ]
      },
      {
       "output_type": "stream",
       "stream": "stdout",
       "text": [
        "\n",
        "(4080, 4.6997783e-10, array([ 1.00002515], dtype=float32), array([ -5.72892350e-05], dtype=float32))\n",
        "(4100, 4.2801199e-10, array([ 1.00002408], dtype=float32), array([ -5.46022457e-05], dtype=float32))\n",
        "(4120, 3.9048587e-10, array([ 1.00002289], dtype=float32), array([ -5.20646827e-05], dtype=float32))\n",
        "(4140, 3.5504991e-10, array([ 1.00002193], dtype=float32), array([ -4.96570538e-05], dtype=float32))\n",
        "(4160, 3.2017647e-10, array([ 1.00002086], dtype=float32), array([ -4.73817454e-05], dtype=float32))\n",
        "(4180, 2.9348848e-10, array([ 1.00002003], dtype=float32), array([ -4.52280256e-05], dtype=float32))"
       ]
      },
      {
       "output_type": "stream",
       "stream": "stdout",
       "text": [
        "\n",
        "(4200, 2.6855793e-10, array([ 1.00001907], dtype=float32), array([ -4.32018605e-05], dtype=float32))\n",
        "(4220, 2.4558724e-10, array([ 1.00001824], dtype=float32), array([ -4.12730551e-05], dtype=float32))\n",
        "(4240, 2.2417623e-10, array([ 1.00001752], dtype=float32), array([ -3.94527306e-05], dtype=float32))\n",
        "(4260, 2.0695386e-10, array([ 1.00001681], dtype=float32), array([ -3.77377000e-05], dtype=float32))\n",
        "(4280, 1.8813751e-10, array([ 1.00001609], dtype=float32), array([ -3.61093116e-05], dtype=float32))\n",
        "(4300, 1.7313084e-10, array([ 1.00001538], dtype=float32), array([ -3.45742919e-05], dtype=float32))"
       ]
      },
      {
       "output_type": "stream",
       "stream": "stdout",
       "text": [
        "\n",
        "(4320, 1.5846051e-10, array([ 1.00001478], dtype=float32), array([ -3.31259071e-05], dtype=float32))\n",
        "(4340, 1.4514139e-10, array([ 1.00001419], dtype=float32), array([ -3.17569829e-05], dtype=float32))\n",
        "(4360, 1.3315216e-10, array([ 1.00001371], dtype=float32), array([ -3.04520381e-05], dtype=float32))\n",
        "(4380, 1.2271546e-10, array([ 1.00001311], dtype=float32), array([ -2.92349123e-05], dtype=float32))\n",
        "(4400, 1.1401961e-10, array([ 1.00001264], dtype=float32), array([ -2.80738113e-05], dtype=float32))"
       ]
      },
      {
       "output_type": "stream",
       "stream": "stdout",
       "text": [
        "\n",
        "(4420, 1.0603311e-10, array([ 1.00001216], dtype=float32), array([ -2.69782777e-05], dtype=float32))\n",
        "(4440, 9.7231855e-11, array([ 1.0000118], dtype=float32), array([ -2.59491062e-05], dtype=float32))\n",
        "(4460, 8.9752206e-11, array([ 1.00001132], dtype=float32), array([ -2.49704008e-05], dtype=float32))\n",
        "(4480, 8.2945206e-11, array([ 1.00001085], dtype=float32), array([ -2.40437494e-05], dtype=float32))\n",
        "(4500, 7.8473526e-11, array([ 1.00001049], dtype=float32), array([ -2.31814665e-05], dtype=float32))\n",
        "(4520, 7.3206032e-11, array([ 1.00001013], dtype=float32), array([ -2.23589232e-05], dtype=float32))\n",
        "(4540, 6.8463159e-11, array([ 1.00000989], dtype=float32), array([ -2.15757154e-05], dtype=float32))"
       ]
      },
      {
       "output_type": "stream",
       "stream": "stdout",
       "text": [
        "\n",
        "(4560, 6.4002137e-11, array([ 1.00000954], dtype=float32), array([ -2.08310503e-05], dtype=float32))\n",
        "(4580, 6.06614e-11, array([ 1.0000093], dtype=float32), array([ -2.01396379e-05], dtype=float32))\n",
        "(4600, 5.4954558e-11, array([ 1.00000894], dtype=float32), array([ -1.94776276e-05], dtype=float32))\n",
        "(4620, 5.1898041e-11, array([ 1.00000858], dtype=float32), array([ -1.88557515e-05], dtype=float32))\n",
        "(4640, 4.8359539e-11, array([ 1.00000846], dtype=float32), array([ -1.82612930e-05], dtype=float32))\n",
        "(4660, 4.6352255e-11, array([ 1.00000811], dtype=float32), array([ -1.77065722e-05], dtype=float32))\n",
        "(4680, 4.3414161e-11, array([ 1.00000799], dtype=float32), array([ -1.71586034e-05], dtype=float32))\n",
        "(4700, 4.1974129e-11, array([ 1.00000775], dtype=float32), array([ -1.66833543e-05], dtype=float32))"
       ]
      },
      {
       "output_type": "stream",
       "stream": "stdout",
       "text": [
        "\n",
        "(4720, 3.8525627e-11, array([ 1.00000751], dtype=float32), array([ -1.62037340e-05], dtype=float32))\n",
        "(4740, 3.7498893e-11, array([ 1.00000727], dtype=float32), array([ -1.57717968e-05], dtype=float32))\n",
        "(4760, 3.5419372e-11, array([ 1.00000715], dtype=float32), array([ -1.53307210e-05], dtype=float32))\n",
        "(4780, 3.3022474e-11, array([ 1.00000703], dtype=float32), array([ -1.49480602e-05], dtype=float32))\n",
        "(4800, 3.246825e-11, array([ 1.00000679], dtype=float32), array([ -1.45757285e-05], dtype=float32))\n",
        "(4820, 2.9947007e-11, array([ 1.00000668], dtype=float32), array([ -1.42093568e-05], dtype=float32))\n",
        "(4840, 2.9000802e-11, array([ 1.00000656], dtype=float32), array([ -1.38604728e-05], dtype=float32))"
       ]
      },
      {
       "output_type": "stream",
       "stream": "stdout",
       "text": [
        "\n",
        "(4860, 2.8137492e-11, array([ 1.00000644], dtype=float32), array([ -1.35692044e-05], dtype=float32))\n",
        "(4880, 2.7295499e-11, array([ 1.00000632], dtype=float32), array([ -1.32981995e-05], dtype=float32))\n",
        "(4900, 2.5532168e-11, array([ 1.0000062], dtype=float32), array([ -1.30041481e-05], dtype=float32))\n",
        "(4920, 2.4732808e-11, array([ 1.00000608], dtype=float32), array([ -1.27180474e-05], dtype=float32))\n",
        "(4940, 2.4471092e-11, array([ 1.00000596], dtype=float32), array([ -1.24891649e-05], dtype=float32))\n",
        "(4960, 2.3700153e-11, array([ 1.00000584], dtype=float32), array([ -1.22459769e-05], dtype=float32))\n",
        "(4980, 2.2345384e-11, array([ 1.00000572], dtype=float32), array([ -1.19952374e-05], dtype=float32))"
       ]
      },
      {
       "output_type": "stream",
       "stream": "stdout",
       "text": [
        "\n",
        "(5000, 2.1534182e-11, array([ 1.00000572], dtype=float32), array([ -1.18100643e-05], dtype=float32))\n",
        "(5020, 2.0479026e-11, array([ 1.0000056], dtype=float32), array([ -1.16078045e-05], dtype=float32))\n",
        "(5040, 2.003849e-11, array([ 1.00000548], dtype=float32), array([ -1.14142877e-05], dtype=float32))\n",
        "(5060, 2.003849e-11, array([ 1.00000536], dtype=float32), array([ -1.12366633e-05], dtype=float32))\n",
        "(5080, 1.9070967e-11, array([ 1.00000525], dtype=float32), array([ -1.10773217e-05], dtype=float32))\n",
        "(5100, 1.8309501e-11, array([ 1.00000525], dtype=float32), array([ -1.08826125e-05], dtype=float32))\n",
        "(5120, 1.7379875e-11, array([ 1.00000513], dtype=float32), array([ -1.07292271e-05], dtype=float32))"
       ]
      },
      {
       "output_type": "stream",
       "stream": "stdout",
       "text": [
        "\n",
        "(5140, 1.7428428e-11, array([ 1.00000513], dtype=float32), array([ -1.05567706e-05], dtype=float32))\n",
        "(5160, 1.6978419e-11, array([ 1.00000513], dtype=float32), array([ -1.04435167e-05], dtype=float32))\n",
        "(5180, 1.7214083e-11, array([ 1.00000501], dtype=float32), array([ -1.03545062e-05], dtype=float32))\n",
        "(5200, 1.6768809e-11, array([ 1.00000501], dtype=float32), array([ -1.02472131e-05], dtype=float32))\n",
        "(5220, 1.6547355e-11, array([ 1.00000501], dtype=float32), array([ -1.01637670e-05], dtype=float32))\n",
        "(5240, 1.6585252e-11, array([ 1.00000489], dtype=float32), array([ -1.00815123e-05], dtype=float32))\n",
        "(5260, 1.6356694e-11, array([ 1.00000489], dtype=float32), array([ -9.99687381e-06], dtype=float32))"
       ]
      },
      {
       "output_type": "stream",
       "stream": "stdout",
       "text": [
        "\n",
        "(5280, 1.5641414e-11, array([ 1.00000477], dtype=float32), array([ -9.89236923e-06], dtype=float32))\n",
        "(5300, 1.5215088e-11, array([ 1.00000477], dtype=float32), array([ -9.78110165e-06], dtype=float32))\n",
        "(5320, 1.500311e-11, array([ 1.00000477], dtype=float32), array([ -9.69447592e-06], dtype=float32))\n",
        "(5340, 1.4339936e-11, array([ 1.00000465], dtype=float32), array([ -9.60467605e-06], dtype=float32))\n",
        "(5360, 1.3927822e-11, array([ 1.00000465], dtype=float32), array([ -9.49023070e-06], dtype=float32))\n",
        "(5380, 1.4424018e-11, array([ 1.00000465], dtype=float32), array([ -9.40916925e-06], dtype=float32))\n",
        "(5400, 1.4235724e-11, array([ 1.00000465], dtype=float32), array([ -9.36585548e-06], dtype=float32))"
       ]
      },
      {
       "output_type": "stream",
       "stream": "stdout",
       "text": [
        "\n",
        "(5420, 1.4230987e-11, array([ 1.00000465], dtype=float32), array([ -9.33882893e-06], dtype=float32))\n",
        "(5440, 1.4045061e-11, array([ 1.00000465], dtype=float32), array([ -9.31935392e-06], dtype=float32))\n",
        "(5460, 1.4045061e-11, array([ 1.00000465], dtype=float32), array([ -9.30345595e-06], dtype=float32))\n",
        "(5480, 1.4045061e-11, array([ 1.00000465], dtype=float32), array([ -9.28755799e-06], dtype=float32))\n",
        "(5500, 1.4045061e-11, array([ 1.00000465], dtype=float32), array([ -9.27166002e-06], dtype=float32))\n",
        "(5520, 1.3348729e-11, array([ 1.00000453], dtype=float32), array([ -9.20887669e-06], dtype=float32))\n"
       ]
      },
      {
       "output_type": "stream",
       "stream": "stdout",
       "text": [
        "(5540, 1.4049799e-11, array([ 1.00000453], dtype=float32), array([ -9.16119188e-06], dtype=float32))\n",
        "(5560, 1.3866241e-11, array([ 1.00000453], dtype=float32), array([ -9.13416534e-06], dtype=float32))\n",
        "(5580, 1.3548866e-11, array([ 1.00000441], dtype=float32), array([ -9.09204118e-06], dtype=float32))\n",
        "(5600, 1.3179384e-11, array([ 1.00000441], dtype=float32), array([ -9.01376188e-06], dtype=float32))\n",
        "(5620, 1.2983985e-11, array([ 1.00000441], dtype=float32), array([ -8.95694484e-06], dtype=float32))\n",
        "(5640, 1.3685053e-11, array([ 1.00000441], dtype=float32), array([ -8.92992466e-06], dtype=float32))\n",
        "(5660, 1.3685053e-11, array([ 1.00000441], dtype=float32), array([ -8.91402669e-06], dtype=float32))"
       ]
      },
      {
       "output_type": "stream",
       "stream": "stdout",
       "text": [
        "\n",
        "(5680, 1.3506233e-11, array([ 1.00000441], dtype=float32), array([ -8.90448791e-06], dtype=float32))\n",
        "(5700, 1.3506233e-11, array([ 1.00000441], dtype=float32), array([ -8.89653893e-06], dtype=float32))\n",
        "(5720, 1.3506233e-11, array([ 1.00000441], dtype=float32), array([ -8.88858995e-06], dtype=float32))\n",
        "(5740, 1.2539895e-11, array([ 1.00000429], dtype=float32), array([ -8.88143586e-06], dtype=float32))\n",
        "(5760, 1.2156202e-11, array([ 1.00000429], dtype=float32), array([ -8.78328410e-06], dtype=float32))\n",
        "(5780, 1.196554e-11, array([ 1.00000429], dtype=float32), array([ -8.71017164e-06], dtype=float32))"
       ]
      },
      {
       "output_type": "stream",
       "stream": "stdout",
       "text": [
        "\n",
        "(5800, 1.2628713e-11, array([ 1.00000429], dtype=float32), array([ -8.67360905e-06], dtype=float32))\n",
        "(5820, 1.245463e-11, array([ 1.00000429], dtype=float32), array([ -8.64936464e-06], dtype=float32))\n",
        "(5840, 1.2449893e-11, array([ 1.00000429], dtype=float32), array([ -8.63664627e-06], dtype=float32))\n",
        "(5860, 1.2449893e-11, array([ 1.00000429], dtype=float32), array([ -8.62869729e-06], dtype=float32))\n",
        "(5880, 1.2449893e-11, array([ 1.00000429], dtype=float32), array([ -8.62074830e-06], dtype=float32))\n",
        "(5900, 1.2278178e-11, array([ 1.00000429], dtype=float32), array([ -8.61279932e-06], dtype=float32))"
       ]
      },
      {
       "output_type": "stream",
       "stream": "stdout",
       "text": [
        "\n",
        "(5920, 1.2278178e-11, array([ 1.00000429], dtype=float32), array([ -8.61279932e-06], dtype=float32))\n",
        "(5940, 1.2278178e-11, array([ 1.00000429], dtype=float32), array([ -8.61279932e-06], dtype=float32))\n",
        "(5960, 1.2278178e-11, array([ 1.00000429], dtype=float32), array([ -8.61279932e-06], dtype=float32))\n",
        "(5980, 1.2278178e-11, array([ 1.00000429], dtype=float32), array([ -8.61279932e-06], dtype=float32))\n",
        "(6000, 1.2278178e-11, array([ 1.00000429], dtype=float32), array([ -8.61279932e-06], dtype=float32))"
       ]
      },
      {
       "output_type": "stream",
       "stream": "stdout",
       "text": [
        "\n",
        "(6020, 1.2278178e-11, array([ 1.00000429], dtype=float32), array([ -8.61279932e-06], dtype=float32))\n",
        "(6040, 1.2278178e-11, array([ 1.00000429], dtype=float32), array([ -8.61279932e-06], dtype=float32))\n",
        "(6060, 1.2278178e-11, array([ 1.00000429], dtype=float32), array([ -8.61279932e-06], dtype=float32))\n",
        "(6080, 1.2278178e-11, array([ 1.00000429], dtype=float32), array([ -8.61279932e-06], dtype=float32))\n",
        "(6100, 1.2278178e-11, array([ 1.00000429], dtype=float32), array([ -8.61279932e-06], dtype=float32))"
       ]
      },
      {
       "output_type": "stream",
       "stream": "stdout",
       "text": [
        "\n",
        "(6120, 1.2278178e-11, array([ 1.00000429], dtype=float32), array([ -8.61279932e-06], dtype=float32))\n",
        "(6140, 1.2278178e-11, array([ 1.00000429], dtype=float32), array([ -8.61279932e-06], dtype=float32))\n",
        "(6160, 1.2278178e-11, array([ 1.00000429], dtype=float32), array([ -8.61279932e-06], dtype=float32))\n",
        "(6180, 1.2278178e-11, array([ 1.00000429], dtype=float32), array([ -8.61279932e-06], dtype=float32))\n",
        "(6200, 1.2278178e-11, array([ 1.00000429], dtype=float32), array([ -8.61279932e-06], dtype=float32))"
       ]
      },
      {
       "output_type": "stream",
       "stream": "stdout",
       "text": [
        "\n",
        "(6220, 1.2278178e-11, array([ 1.00000429], dtype=float32), array([ -8.61279932e-06], dtype=float32))\n",
        "(6240, 1.2278178e-11, array([ 1.00000429], dtype=float32), array([ -8.61279932e-06], dtype=float32))\n",
        "(6260, 1.2278178e-11, array([ 1.00000429], dtype=float32), array([ -8.61279932e-06], dtype=float32))\n",
        "(6280, 1.2278178e-11, array([ 1.00000429], dtype=float32), array([ -8.61279932e-06], dtype=float32))\n",
        "(6300, 1.2278178e-11, array([ 1.00000429], dtype=float32), array([ -8.61279932e-06], dtype=float32))"
       ]
      },
      {
       "output_type": "stream",
       "stream": "stdout",
       "text": [
        "\n",
        "(6320, 1.2278178e-11, array([ 1.00000429], dtype=float32), array([ -8.61279932e-06], dtype=float32))\n",
        "(6340, 1.2278178e-11, array([ 1.00000429], dtype=float32), array([ -8.61279932e-06], dtype=float32))\n",
        "(6360, 1.2278178e-11, array([ 1.00000429], dtype=float32), array([ -8.61279932e-06], dtype=float32))\n",
        "(6380, 1.2278178e-11, array([ 1.00000429], dtype=float32), array([ -8.61279932e-06], dtype=float32))\n",
        "(6400, 1.2278178e-11, array([ 1.00000429], dtype=float32), array([ -8.61279932e-06], dtype=float32))\n",
        "(6420, 1.2278178e-11, array([ 1.00000429], dtype=float32), array([ -8.61279932e-06], dtype=float32))"
       ]
      },
      {
       "output_type": "stream",
       "stream": "stdout",
       "text": [
        "\n",
        "(6440, 1.2278178e-11, array([ 1.00000429], dtype=float32), array([ -8.61279932e-06], dtype=float32))\n",
        "(6460, 1.2278178e-11, array([ 1.00000429], dtype=float32), array([ -8.61279932e-06], dtype=float32))\n",
        "(6480, 1.2278178e-11, array([ 1.00000429], dtype=float32), array([ -8.61279932e-06], dtype=float32))\n",
        "(6500, 1.2278178e-11, array([ 1.00000429], dtype=float32), array([ -8.61279932e-06], dtype=float32))\n",
        "(6520, 1.2278178e-11, array([ 1.00000429], dtype=float32), array([ -8.61279932e-06], dtype=float32))"
       ]
      },
      {
       "output_type": "stream",
       "stream": "stdout",
       "text": [
        "\n",
        "(6540, 1.2278178e-11, array([ 1.00000429], dtype=float32), array([ -8.61279932e-06], dtype=float32))\n",
        "(6560, 1.2278178e-11, array([ 1.00000429], dtype=float32), array([ -8.61279932e-06], dtype=float32))\n",
        "(6580, 1.2278178e-11, array([ 1.00000429], dtype=float32), array([ -8.61279932e-06], dtype=float32))\n",
        "(6600, 1.2278178e-11, array([ 1.00000429], dtype=float32), array([ -8.61279932e-06], dtype=float32))\n",
        "(6620, 1.2278178e-11, array([ 1.00000429], dtype=float32), array([ -8.61279932e-06], dtype=float32))\n",
        "(6640, 1.2278178e-11, array([ 1.00000429], dtype=float32), array([ -8.61279932e-06], dtype=float32))"
       ]
      },
      {
       "output_type": "stream",
       "stream": "stdout",
       "text": [
        "\n",
        "(6660, 1.2278178e-11, array([ 1.00000429], dtype=float32), array([ -8.61279932e-06], dtype=float32))\n",
        "(6680, 1.2278178e-11, array([ 1.00000429], dtype=float32), array([ -8.61279932e-06], dtype=float32))\n",
        "(6700, 1.2278178e-11, array([ 1.00000429], dtype=float32), array([ -8.61279932e-06], dtype=float32))\n",
        "(6720, 1.2278178e-11, array([ 1.00000429], dtype=float32), array([ -8.61279932e-06], dtype=float32))\n",
        "(6740, 1.2278178e-11, array([ 1.00000429], dtype=float32), array([ -8.61279932e-06], dtype=float32))\n",
        "(6760, 1.2278178e-11, array([ 1.00000429], dtype=float32), array([ -8.61279932e-06], dtype=float32))"
       ]
      },
      {
       "output_type": "stream",
       "stream": "stdout",
       "text": [
        "\n",
        "(6780, 1.2278178e-11, array([ 1.00000429], dtype=float32), array([ -8.61279932e-06], dtype=float32))\n",
        "(6800, 1.2278178e-11, array([ 1.00000429], dtype=float32), array([ -8.61279932e-06], dtype=float32))\n",
        "(6820, 1.2278178e-11, array([ 1.00000429], dtype=float32), array([ -8.61279932e-06], dtype=float32))\n",
        "(6840, 1.2278178e-11, array([ 1.00000429], dtype=float32), array([ -8.61279932e-06], dtype=float32))\n",
        "(6860, 1.2278178e-11, array([ 1.00000429], dtype=float32), array([ -8.61279932e-06], dtype=float32))"
       ]
      },
      {
       "output_type": "stream",
       "stream": "stdout",
       "text": [
        "\n",
        "(6880, 1.2278178e-11, array([ 1.00000429], dtype=float32), array([ -8.61279932e-06], dtype=float32))\n",
        "(6900, 1.2278178e-11, array([ 1.00000429], dtype=float32), array([ -8.61279932e-06], dtype=float32))\n",
        "(6920, 1.2278178e-11, array([ 1.00000429], dtype=float32), array([ -8.61279932e-06], dtype=float32))\n",
        "(6940, 1.2278178e-11, array([ 1.00000429], dtype=float32), array([ -8.61279932e-06], dtype=float32))\n",
        "(6960, 1.2278178e-11, array([ 1.00000429], dtype=float32), array([ -8.61279932e-06], dtype=float32))"
       ]
      },
      {
       "output_type": "stream",
       "stream": "stdout",
       "text": [
        "\n",
        "(6980, 1.2278178e-11, array([ 1.00000429], dtype=float32), array([ -8.61279932e-06], dtype=float32))\n",
        "(7000, 1.2278178e-11, array([ 1.00000429], dtype=float32), array([ -8.61279932e-06], dtype=float32))\n",
        "(7020, 1.2278178e-11, array([ 1.00000429], dtype=float32), array([ -8.61279932e-06], dtype=float32))\n",
        "(7040, 1.2278178e-11, array([ 1.00000429], dtype=float32), array([ -8.61279932e-06], dtype=float32))\n",
        "(7060, 1.2278178e-11, array([ 1.00000429], dtype=float32), array([ -8.61279932e-06], dtype=float32))\n",
        "(7080, 1.2278178e-11, array([ 1.00000429], dtype=float32), array([ -8.61279932e-06], dtype=float32))"
       ]
      },
      {
       "output_type": "stream",
       "stream": "stdout",
       "text": [
        "\n",
        "(7100, 1.2278178e-11, array([ 1.00000429], dtype=float32), array([ -8.61279932e-06], dtype=float32))\n",
        "(7120, 1.2278178e-11, array([ 1.00000429], dtype=float32), array([ -8.61279932e-06], dtype=float32))\n",
        "(7140, 1.2278178e-11, array([ 1.00000429], dtype=float32), array([ -8.61279932e-06], dtype=float32))\n",
        "(7160, 1.2278178e-11, array([ 1.00000429], dtype=float32), array([ -8.61279932e-06], dtype=float32))\n",
        "(7180, 1.2278178e-11, array([ 1.00000429], dtype=float32), array([ -8.61279932e-06], dtype=float32))\n",
        "(7200, 1.2278178e-11, array([ 1.00000429], dtype=float32), array([ -8.61279932e-06], dtype=float32))\n",
        "(7220, 1.2278178e-11, array([ 1.00000429], dtype=float32), array([ -8.61279932e-06], dtype=float32))"
       ]
      },
      {
       "output_type": "stream",
       "stream": "stdout",
       "text": [
        "\n",
        "(7240, 1.2278178e-11, array([ 1.00000429], dtype=float32), array([ -8.61279932e-06], dtype=float32))\n",
        "(7260, 1.2278178e-11, array([ 1.00000429], dtype=float32), array([ -8.61279932e-06], dtype=float32))\n",
        "(7280, 1.2278178e-11, array([ 1.00000429], dtype=float32), array([ -8.61279932e-06], dtype=float32))\n",
        "(7300, 1.2278178e-11, array([ 1.00000429], dtype=float32), array([ -8.61279932e-06], dtype=float32))\n",
        "(7320, 1.2278178e-11, array([ 1.00000429], dtype=float32), array([ -8.61279932e-06], dtype=float32))\n",
        "(7340, 1.2278178e-11, array([ 1.00000429], dtype=float32), array([ -8.61279932e-06], dtype=float32))"
       ]
      },
      {
       "output_type": "stream",
       "stream": "stdout",
       "text": [
        "\n",
        "(7360, 1.2278178e-11, array([ 1.00000429], dtype=float32), array([ -8.61279932e-06], dtype=float32))\n",
        "(7380, 1.2278178e-11, array([ 1.00000429], dtype=float32), array([ -8.61279932e-06], dtype=float32))\n",
        "(7400, 1.2278178e-11, array([ 1.00000429], dtype=float32), array([ -8.61279932e-06], dtype=float32))\n",
        "(7420, 1.2278178e-11, array([ 1.00000429], dtype=float32), array([ -8.61279932e-06], dtype=float32))\n",
        "(7440, 1.2278178e-11, array([ 1.00000429], dtype=float32), array([ -8.61279932e-06], dtype=float32))\n",
        "(7460, 1.2278178e-11, array([ 1.00000429], dtype=float32), array([ -8.61279932e-06], dtype=float32))"
       ]
      },
      {
       "output_type": "stream",
       "stream": "stdout",
       "text": [
        "\n",
        "(7480, 1.2278178e-11, array([ 1.00000429], dtype=float32), array([ -8.61279932e-06], dtype=float32))\n",
        "(7500, 1.2278178e-11, array([ 1.00000429], dtype=float32), array([ -8.61279932e-06], dtype=float32))\n",
        "(7520, 1.2278178e-11, array([ 1.00000429], dtype=float32), array([ -8.61279932e-06], dtype=float32))\n",
        "(7540, 1.2278178e-11, array([ 1.00000429], dtype=float32), array([ -8.61279932e-06], dtype=float32))\n",
        "(7560, 1.2278178e-11, array([ 1.00000429], dtype=float32), array([ -8.61279932e-06], dtype=float32))\n",
        "(7580, 1.2278178e-11, array([ 1.00000429], dtype=float32), array([ -8.61279932e-06], dtype=float32))"
       ]
      },
      {
       "output_type": "stream",
       "stream": "stdout",
       "text": [
        "\n",
        "(7600, 1.2278178e-11, array([ 1.00000429], dtype=float32), array([ -8.61279932e-06], dtype=float32))\n",
        "(7620, 1.2278178e-11, array([ 1.00000429], dtype=float32), array([ -8.61279932e-06], dtype=float32))\n",
        "(7640, 1.2278178e-11, array([ 1.00000429], dtype=float32), array([ -8.61279932e-06], dtype=float32))\n",
        "(7660, 1.2278178e-11, array([ 1.00000429], dtype=float32), array([ -8.61279932e-06], dtype=float32))\n",
        "(7680, 1.2278178e-11, array([ 1.00000429], dtype=float32), array([ -8.61279932e-06], dtype=float32))\n",
        "(7700, 1.2278178e-11, array([ 1.00000429], dtype=float32), array([ -8.61279932e-06], dtype=float32))"
       ]
      },
      {
       "output_type": "stream",
       "stream": "stdout",
       "text": [
        "\n",
        "(7720, 1.2278178e-11, array([ 1.00000429], dtype=float32), array([ -8.61279932e-06], dtype=float32))\n",
        "(7740, 1.2278178e-11, array([ 1.00000429], dtype=float32), array([ -8.61279932e-06], dtype=float32))\n",
        "(7760, 1.2278178e-11, array([ 1.00000429], dtype=float32), array([ -8.61279932e-06], dtype=float32))\n",
        "(7780, 1.2278178e-11, array([ 1.00000429], dtype=float32), array([ -8.61279932e-06], dtype=float32))\n",
        "(7800, 1.2278178e-11, array([ 1.00000429], dtype=float32), array([ -8.61279932e-06], dtype=float32))\n",
        "(7820, 1.2278178e-11, array([ 1.00000429], dtype=float32), array([ -8.61279932e-06], dtype=float32))\n",
        "(7840, 1.2278178e-11, array([ 1.00000429], dtype=float32), array([ -8.61279932e-06], dtype=float32))"
       ]
      },
      {
       "output_type": "stream",
       "stream": "stdout",
       "text": [
        "\n",
        "(7860, 1.2278178e-11, array([ 1.00000429], dtype=float32), array([ -8.61279932e-06], dtype=float32))\n",
        "(7880, 1.2278178e-11, array([ 1.00000429], dtype=float32), array([ -8.61279932e-06], dtype=float32))\n",
        "(7900, 1.2278178e-11, array([ 1.00000429], dtype=float32), array([ -8.61279932e-06], dtype=float32))\n",
        "(7920, 1.2278178e-11, array([ 1.00000429], dtype=float32), array([ -8.61279932e-06], dtype=float32))\n",
        "(7940, 1.2278178e-11, array([ 1.00000429], dtype=float32), array([ -8.61279932e-06], dtype=float32))\n",
        "(7960, 1.2278178e-11, array([ 1.00000429], dtype=float32), array([ -8.61279932e-06], dtype=float32))"
       ]
      },
      {
       "output_type": "stream",
       "stream": "stdout",
       "text": [
        "\n",
        "(7980, 1.2278178e-11, array([ 1.00000429], dtype=float32), array([ -8.61279932e-06], dtype=float32))\n",
        "(8000, 1.2278178e-11, array([ 1.00000429], dtype=float32), array([ -8.61279932e-06], dtype=float32))\n",
        "(8020, 1.2278178e-11, array([ 1.00000429], dtype=float32), array([ -8.61279932e-06], dtype=float32))\n",
        "(8040, 1.2278178e-11, array([ 1.00000429], dtype=float32), array([ -8.61279932e-06], dtype=float32))\n",
        "(8060, 1.2278178e-11, array([ 1.00000429], dtype=float32), array([ -8.61279932e-06], dtype=float32))\n",
        "(8080, 1.2278178e-11, array([ 1.00000429], dtype=float32), array([ -8.61279932e-06], dtype=float32))"
       ]
      },
      {
       "output_type": "stream",
       "stream": "stdout",
       "text": [
        "\n",
        "(8100, 1.2278178e-11, array([ 1.00000429], dtype=float32), array([ -8.61279932e-06], dtype=float32))\n",
        "(8120, 1.2278178e-11, array([ 1.00000429], dtype=float32), array([ -8.61279932e-06], dtype=float32))\n",
        "(8140, 1.2278178e-11, array([ 1.00000429], dtype=float32), array([ -8.61279932e-06], dtype=float32))\n",
        "(8160, 1.2278178e-11, array([ 1.00000429], dtype=float32), array([ -8.61279932e-06], dtype=float32))\n",
        "(8180, 1.2278178e-11, array([ 1.00000429], dtype=float32), array([ -8.61279932e-06], dtype=float32))\n",
        "(8200, 1.2278178e-11, array([ 1.00000429], dtype=float32), array([ -8.61279932e-06], dtype=float32))\n",
        "(8220, 1.2278178e-11, array([ 1.00000429], dtype=float32), array([ -8.61279932e-06], dtype=float32))"
       ]
      },
      {
       "output_type": "stream",
       "stream": "stdout",
       "text": [
        "\n",
        "(8240, 1.2278178e-11, array([ 1.00000429], dtype=float32), array([ -8.61279932e-06], dtype=float32))\n",
        "(8260, 1.2278178e-11, array([ 1.00000429], dtype=float32), array([ -8.61279932e-06], dtype=float32))\n",
        "(8280, 1.2278178e-11, array([ 1.00000429], dtype=float32), array([ -8.61279932e-06], dtype=float32))\n",
        "(8300, 1.2278178e-11, array([ 1.00000429], dtype=float32), array([ -8.61279932e-06], dtype=float32))\n",
        "(8320, 1.2278178e-11, array([ 1.00000429], dtype=float32), array([ -8.61279932e-06], dtype=float32))\n",
        "(8340, 1.2278178e-11, array([ 1.00000429], dtype=float32), array([ -8.61279932e-06], dtype=float32))\n",
        "(8360, 1.2278178e-11, array([ 1.00000429], dtype=float32), array([ -8.61279932e-06], dtype=float32))"
       ]
      },
      {
       "output_type": "stream",
       "stream": "stdout",
       "text": [
        "\n",
        "(8380, 1.2278178e-11, array([ 1.00000429], dtype=float32), array([ -8.61279932e-06], dtype=float32))\n",
        "(8400, 1.2278178e-11, array([ 1.00000429], dtype=float32), array([ -8.61279932e-06], dtype=float32))\n",
        "(8420, 1.2278178e-11, array([ 1.00000429], dtype=float32), array([ -8.61279932e-06], dtype=float32))\n",
        "(8440, 1.2278178e-11, array([ 1.00000429], dtype=float32), array([ -8.61279932e-06], dtype=float32))\n",
        "(8460, 1.2278178e-11, array([ 1.00000429], dtype=float32), array([ -8.61279932e-06], dtype=float32))\n",
        "(8480, 1.2278178e-11, array([ 1.00000429], dtype=float32), array([ -8.61279932e-06], dtype=float32))\n",
        "(8500, 1.2278178e-11, array([ 1.00000429], dtype=float32), array([ -8.61279932e-06], dtype=float32))"
       ]
      },
      {
       "output_type": "stream",
       "stream": "stdout",
       "text": [
        "\n",
        "(8520, 1.2278178e-11, array([ 1.00000429], dtype=float32), array([ -8.61279932e-06], dtype=float32))\n",
        "(8540, 1.2278178e-11, array([ 1.00000429], dtype=float32), array([ -8.61279932e-06], dtype=float32))\n",
        "(8560, 1.2278178e-11, array([ 1.00000429], dtype=float32), array([ -8.61279932e-06], dtype=float32))\n",
        "(8580, 1.2278178e-11, array([ 1.00000429], dtype=float32), array([ -8.61279932e-06], dtype=float32))\n",
        "(8600, 1.2278178e-11, array([ 1.00000429], dtype=float32), array([ -8.61279932e-06], dtype=float32))\n",
        "(8620, 1.2278178e-11, array([ 1.00000429], dtype=float32), array([ -8.61279932e-06], dtype=float32))\n",
        "(8640, 1.2278178e-11, array([ 1.00000429], dtype=float32), array([ -8.61279932e-06], dtype=float32))"
       ]
      },
      {
       "output_type": "stream",
       "stream": "stdout",
       "text": [
        "\n",
        "(8660, 1.2278178e-11, array([ 1.00000429], dtype=float32), array([ -8.61279932e-06], dtype=float32))\n",
        "(8680, 1.2278178e-11, array([ 1.00000429], dtype=float32), array([ -8.61279932e-06], dtype=float32))\n",
        "(8700, 1.2278178e-11, array([ 1.00000429], dtype=float32), array([ -8.61279932e-06], dtype=float32))\n",
        "(8720, 1.2278178e-11, array([ 1.00000429], dtype=float32), array([ -8.61279932e-06], dtype=float32))\n",
        "(8740, 1.2278178e-11, array([ 1.00000429], dtype=float32), array([ -8.61279932e-06], dtype=float32))\n",
        "(8760, 1.2278178e-11, array([ 1.00000429], dtype=float32), array([ -8.61279932e-06], dtype=float32))\n",
        "(8780, 1.2278178e-11, array([ 1.00000429], dtype=float32), array([ -8.61279932e-06], dtype=float32))"
       ]
      },
      {
       "output_type": "stream",
       "stream": "stdout",
       "text": [
        "\n",
        "(8800, 1.2278178e-11, array([ 1.00000429], dtype=float32), array([ -8.61279932e-06], dtype=float32))\n",
        "(8820, 1.2278178e-11, array([ 1.00000429], dtype=float32), array([ -8.61279932e-06], dtype=float32))\n",
        "(8840, 1.2278178e-11, array([ 1.00000429], dtype=float32), array([ -8.61279932e-06], dtype=float32))\n",
        "(8860, 1.2278178e-11, array([ 1.00000429], dtype=float32), array([ -8.61279932e-06], dtype=float32))\n",
        "(8880, 1.2278178e-11, array([ 1.00000429], dtype=float32), array([ -8.61279932e-06], dtype=float32))\n",
        "(8900, 1.2278178e-11, array([ 1.00000429], dtype=float32), array([ -8.61279932e-06], dtype=float32))\n",
        "(8920, 1.2278178e-11, array([ 1.00000429], dtype=float32), array([ -8.61279932e-06], dtype=float32))"
       ]
      },
      {
       "output_type": "stream",
       "stream": "stdout",
       "text": [
        "\n",
        "(8940, 1.2278178e-11, array([ 1.00000429], dtype=float32), array([ -8.61279932e-06], dtype=float32))\n",
        "(8960, 1.2278178e-11, array([ 1.00000429], dtype=float32), array([ -8.61279932e-06], dtype=float32))\n",
        "(8980, 1.2278178e-11, array([ 1.00000429], dtype=float32), array([ -8.61279932e-06], dtype=float32))\n",
        "(9000, 1.2278178e-11, array([ 1.00000429], dtype=float32), array([ -8.61279932e-06], dtype=float32))\n",
        "(9020, 1.2278178e-11, array([ 1.00000429], dtype=float32), array([ -8.61279932e-06], dtype=float32))\n",
        "(9040, 1.2278178e-11, array([ 1.00000429], dtype=float32), array([ -8.61279932e-06], dtype=float32))"
       ]
      },
      {
       "output_type": "stream",
       "stream": "stdout",
       "text": [
        "\n",
        "(9060, 1.2278178e-11, array([ 1.00000429], dtype=float32), array([ -8.61279932e-06], dtype=float32))\n",
        "(9080, 1.2278178e-11, array([ 1.00000429], dtype=float32), array([ -8.61279932e-06], dtype=float32))\n",
        "(9100, 1.2278178e-11, array([ 1.00000429], dtype=float32), array([ -8.61279932e-06], dtype=float32))\n",
        "(9120, 1.2278178e-11, array([ 1.00000429], dtype=float32), array([ -8.61279932e-06], dtype=float32))\n",
        "(9140, 1.2278178e-11, array([ 1.00000429], dtype=float32), array([ -8.61279932e-06], dtype=float32))\n",
        "(9160, 1.2278178e-11, array([ 1.00000429], dtype=float32), array([ -8.61279932e-06], dtype=float32))"
       ]
      },
      {
       "output_type": "stream",
       "stream": "stdout",
       "text": [
        "\n",
        "(9180, 1.2278178e-11, array([ 1.00000429], dtype=float32), array([ -8.61279932e-06], dtype=float32))\n",
        "(9200, 1.2278178e-11, array([ 1.00000429], dtype=float32), array([ -8.61279932e-06], dtype=float32))\n",
        "(9220, 1.2278178e-11, array([ 1.00000429], dtype=float32), array([ -8.61279932e-06], dtype=float32))\n",
        "(9240, 1.2278178e-11, array([ 1.00000429], dtype=float32), array([ -8.61279932e-06], dtype=float32))\n",
        "(9260, 1.2278178e-11, array([ 1.00000429], dtype=float32), array([ -8.61279932e-06], dtype=float32))\n",
        "(9280, 1.2278178e-11, array([ 1.00000429], dtype=float32), array([ -8.61279932e-06], dtype=float32))"
       ]
      },
      {
       "output_type": "stream",
       "stream": "stdout",
       "text": [
        "\n",
        "(9300, 1.2278178e-11, array([ 1.00000429], dtype=float32), array([ -8.61279932e-06], dtype=float32))\n",
        "(9320, 1.2278178e-11, array([ 1.00000429], dtype=float32), array([ -8.61279932e-06], dtype=float32))\n",
        "(9340, 1.2278178e-11, array([ 1.00000429], dtype=float32), array([ -8.61279932e-06], dtype=float32))\n",
        "(9360, 1.2278178e-11, array([ 1.00000429], dtype=float32), array([ -8.61279932e-06], dtype=float32))\n",
        "(9380, 1.2278178e-11, array([ 1.00000429], dtype=float32), array([ -8.61279932e-06], dtype=float32))"
       ]
      },
      {
       "output_type": "stream",
       "stream": "stdout",
       "text": [
        "\n",
        "(9400, 1.2278178e-11, array([ 1.00000429], dtype=float32), array([ -8.61279932e-06], dtype=float32))\n",
        "(9420, 1.2278178e-11, array([ 1.00000429], dtype=float32), array([ -8.61279932e-06], dtype=float32))\n",
        "(9440, 1.2278178e-11, array([ 1.00000429], dtype=float32), array([ -8.61279932e-06], dtype=float32))\n",
        "(9460, 1.2278178e-11, array([ 1.00000429], dtype=float32), array([ -8.61279932e-06], dtype=float32))\n",
        "(9480, 1.2278178e-11, array([ 1.00000429], dtype=float32), array([ -8.61279932e-06], dtype=float32))\n",
        "(9500, 1.2278178e-11, array([ 1.00000429], dtype=float32), array([ -8.61279932e-06], dtype=float32))"
       ]
      },
      {
       "output_type": "stream",
       "stream": "stdout",
       "text": [
        "\n",
        "(9520, 1.2278178e-11, array([ 1.00000429], dtype=float32), array([ -8.61279932e-06], dtype=float32))\n",
        "(9540, 1.2278178e-11, array([ 1.00000429], dtype=float32), array([ -8.61279932e-06], dtype=float32))\n",
        "(9560, 1.2278178e-11, array([ 1.00000429], dtype=float32), array([ -8.61279932e-06], dtype=float32))\n",
        "(9580, 1.2278178e-11, array([ 1.00000429], dtype=float32), array([ -8.61279932e-06], dtype=float32))\n",
        "(9600, 1.2278178e-11, array([ 1.00000429], dtype=float32), array([ -8.61279932e-06], dtype=float32))"
       ]
      },
      {
       "output_type": "stream",
       "stream": "stdout",
       "text": [
        "\n",
        "(9620, 1.2278178e-11, array([ 1.00000429], dtype=float32), array([ -8.61279932e-06], dtype=float32))\n",
        "(9640, 1.2278178e-11, array([ 1.00000429], dtype=float32), array([ -8.61279932e-06], dtype=float32))\n",
        "(9660, 1.2278178e-11, array([ 1.00000429], dtype=float32), array([ -8.61279932e-06], dtype=float32))\n",
        "(9680, 1.2278178e-11, array([ 1.00000429], dtype=float32), array([ -8.61279932e-06], dtype=float32))\n",
        "(9700, 1.2278178e-11, array([ 1.00000429], dtype=float32), array([ -8.61279932e-06], dtype=float32))"
       ]
      },
      {
       "output_type": "stream",
       "stream": "stdout",
       "text": [
        "\n",
        "(9720, 1.2278178e-11, array([ 1.00000429], dtype=float32), array([ -8.61279932e-06], dtype=float32))\n",
        "(9740, 1.2278178e-11, array([ 1.00000429], dtype=float32), array([ -8.61279932e-06], dtype=float32))\n",
        "(9760, 1.2278178e-11, array([ 1.00000429], dtype=float32), array([ -8.61279932e-06], dtype=float32))\n",
        "(9780, 1.2278178e-11, array([ 1.00000429], dtype=float32), array([ -8.61279932e-06], dtype=float32))\n",
        "(9800, 1.2278178e-11, array([ 1.00000429], dtype=float32), array([ -8.61279932e-06], dtype=float32))\n",
        "(9820, 1.2278178e-11, array([ 1.00000429], dtype=float32), array([ -8.61279932e-06], dtype=float32))"
       ]
      },
      {
       "output_type": "stream",
       "stream": "stdout",
       "text": [
        "\n",
        "(9840, 1.2278178e-11, array([ 1.00000429], dtype=float32), array([ -8.61279932e-06], dtype=float32))\n",
        "(9860, 1.2278178e-11, array([ 1.00000429], dtype=float32), array([ -8.61279932e-06], dtype=float32))\n",
        "(9880, 1.2278178e-11, array([ 1.00000429], dtype=float32), array([ -8.61279932e-06], dtype=float32))\n",
        "(9900, 1.2278178e-11, array([ 1.00000429], dtype=float32), array([ -8.61279932e-06], dtype=float32))\n",
        "(9920, 1.2278178e-11, array([ 1.00000429], dtype=float32), array([ -8.61279932e-06], dtype=float32))\n",
        "(9940, 1.2278178e-11, array([ 1.00000429], dtype=float32), array([ -8.61279932e-06], dtype=float32))"
       ]
      },
      {
       "output_type": "stream",
       "stream": "stdout",
       "text": [
        "\n",
        "(9960, 1.2278178e-11, array([ 1.00000429], dtype=float32), array([ -8.61279932e-06], dtype=float32))\n",
        "(9980, 1.2278178e-11, array([ 1.00000429], dtype=float32), array([ -8.61279932e-06], dtype=float32))\n",
        "(10000, 1.2278178e-11, array([ 1.00000429], dtype=float32), array([ -8.61279932e-06], dtype=float32))\n",
        "(10020, 1.2278178e-11, array([ 1.00000429], dtype=float32), array([ -8.61279932e-06], dtype=float32))\n",
        "(10040, 1.2278178e-11, array([ 1.00000429], dtype=float32), array([ -8.61279932e-06], dtype=float32))\n",
        "(10060, 1.2278178e-11, array([ 1.00000429], dtype=float32), array([ -8.61279932e-06], dtype=float32))"
       ]
      },
      {
       "output_type": "stream",
       "stream": "stdout",
       "text": [
        "\n",
        "(10080, 1.2278178e-11, array([ 1.00000429], dtype=float32), array([ -8.61279932e-06], dtype=float32))\n",
        "(10100, 1.2278178e-11, array([ 1.00000429], dtype=float32), array([ -8.61279932e-06], dtype=float32))\n",
        "(10120, 1.2278178e-11, array([ 1.00000429], dtype=float32), array([ -8.61279932e-06], dtype=float32))\n",
        "(10140, 1.2278178e-11, array([ 1.00000429], dtype=float32), array([ -8.61279932e-06], dtype=float32))\n",
        "(10160, 1.2278178e-11, array([ 1.00000429], dtype=float32), array([ -8.61279932e-06], dtype=float32))\n",
        "(10180, 1.2278178e-11, array([ 1.00000429], dtype=float32), array([ -8.61279932e-06], dtype=float32))"
       ]
      },
      {
       "output_type": "stream",
       "stream": "stdout",
       "text": [
        "\n",
        "(10200, 1.2278178e-11, array([ 1.00000429], dtype=float32), array([ -8.61279932e-06], dtype=float32))\n",
        "(10220, 1.2278178e-11, array([ 1.00000429], dtype=float32), array([ -8.61279932e-06], dtype=float32))\n",
        "(10240, 1.2278178e-11, array([ 1.00000429], dtype=float32), array([ -8.61279932e-06], dtype=float32))\n",
        "(10260, 1.2278178e-11, array([ 1.00000429], dtype=float32), array([ -8.61279932e-06], dtype=float32))\n",
        "(10280, 1.2278178e-11, array([ 1.00000429], dtype=float32), array([ -8.61279932e-06], dtype=float32))\n",
        "(10300, 1.2278178e-11, array([ 1.00000429], dtype=float32), array([ -8.61279932e-06], dtype=float32))"
       ]
      },
      {
       "output_type": "stream",
       "stream": "stdout",
       "text": [
        "\n",
        "(10320, 1.2278178e-11, array([ 1.00000429], dtype=float32), array([ -8.61279932e-06], dtype=float32))\n",
        "(10340, 1.2278178e-11, array([ 1.00000429], dtype=float32), array([ -8.61279932e-06], dtype=float32))\n",
        "(10360, 1.2278178e-11, array([ 1.00000429], dtype=float32), array([ -8.61279932e-06], dtype=float32))\n",
        "(10380, 1.2278178e-11, array([ 1.00000429], dtype=float32), array([ -8.61279932e-06], dtype=float32))\n",
        "(10400, 1.2278178e-11, array([ 1.00000429], dtype=float32), array([ -8.61279932e-06], dtype=float32))\n",
        "(10420, 1.2278178e-11, array([ 1.00000429], dtype=float32), array([ -8.61279932e-06], dtype=float32))"
       ]
      },
      {
       "output_type": "stream",
       "stream": "stdout",
       "text": [
        "\n",
        "(10440, 1.2278178e-11, array([ 1.00000429], dtype=float32), array([ -8.61279932e-06], dtype=float32))\n",
        "(10460, 1.2278178e-11, array([ 1.00000429], dtype=float32), array([ -8.61279932e-06], dtype=float32))\n",
        "(10480, 1.2278178e-11, array([ 1.00000429], dtype=float32), array([ -8.61279932e-06], dtype=float32))\n",
        "(10500, 1.2278178e-11, array([ 1.00000429], dtype=float32), array([ -8.61279932e-06], dtype=float32))\n",
        "(10520, 1.2278178e-11, array([ 1.00000429], dtype=float32), array([ -8.61279932e-06], dtype=float32))\n",
        "(10540, 1.2278178e-11, array([ 1.00000429], dtype=float32), array([ -8.61279932e-06], dtype=float32))\n",
        "(10560, 1.2278178e-11, array([ 1.00000429], dtype=float32), array([ -8.61279932e-06], dtype=float32))"
       ]
      },
      {
       "output_type": "stream",
       "stream": "stdout",
       "text": [
        "\n",
        "(10580, 1.2278178e-11, array([ 1.00000429], dtype=float32), array([ -8.61279932e-06], dtype=float32))\n",
        "(10600, 1.2278178e-11, array([ 1.00000429], dtype=float32), array([ -8.61279932e-06], dtype=float32))\n",
        "(10620, 1.2278178e-11, array([ 1.00000429], dtype=float32), array([ -8.61279932e-06], dtype=float32))\n",
        "(10640, 1.2278178e-11, array([ 1.00000429], dtype=float32), array([ -8.61279932e-06], dtype=float32))\n",
        "(10660, 1.2278178e-11, array([ 1.00000429], dtype=float32), array([ -8.61279932e-06], dtype=float32))\n",
        "(10680, 1.2278178e-11, array([ 1.00000429], dtype=float32), array([ -8.61279932e-06], dtype=float32))\n",
        "(10700, 1.2278178e-11, array([ 1.00000429], dtype=float32), array([ -8.61279932e-06], dtype=float32))"
       ]
      },
      {
       "output_type": "stream",
       "stream": "stdout",
       "text": [
        "\n",
        "(10720, 1.2278178e-11, array([ 1.00000429], dtype=float32), array([ -8.61279932e-06], dtype=float32))\n",
        "(10740, 1.2278178e-11, array([ 1.00000429], dtype=float32), array([ -8.61279932e-06], dtype=float32))\n",
        "(10760, 1.2278178e-11, array([ 1.00000429], dtype=float32), array([ -8.61279932e-06], dtype=float32))\n",
        "(10780, 1.2278178e-11, array([ 1.00000429], dtype=float32), array([ -8.61279932e-06], dtype=float32))\n",
        "(10800, 1.2278178e-11, array([ 1.00000429], dtype=float32), array([ -8.61279932e-06], dtype=float32))\n",
        "(10820, 1.2278178e-11, array([ 1.00000429], dtype=float32), array([ -8.61279932e-06], dtype=float32))"
       ]
      },
      {
       "output_type": "stream",
       "stream": "stdout",
       "text": [
        "\n",
        "(10840, 1.2278178e-11, array([ 1.00000429], dtype=float32), array([ -8.61279932e-06], dtype=float32))\n",
        "(10860, 1.2278178e-11, array([ 1.00000429], dtype=float32), array([ -8.61279932e-06], dtype=float32))\n",
        "(10880, 1.2278178e-11, array([ 1.00000429], dtype=float32), array([ -8.61279932e-06], dtype=float32))\n",
        "(10900, 1.2278178e-11, array([ 1.00000429], dtype=float32), array([ -8.61279932e-06], dtype=float32))\n",
        "(10920, 1.2278178e-11, array([ 1.00000429], dtype=float32), array([ -8.61279932e-06], dtype=float32))\n",
        "(10940, 1.2278178e-11, array([ 1.00000429], dtype=float32), array([ -8.61279932e-06], dtype=float32))\n",
        "(10960, 1.2278178e-11, array([ 1.00000429], dtype=float32), array([ -8.61279932e-06], dtype=float32))"
       ]
      },
      {
       "output_type": "stream",
       "stream": "stdout",
       "text": [
        "\n",
        "(10980, 1.2278178e-11, array([ 1.00000429], dtype=float32), array([ -8.61279932e-06], dtype=float32))\n",
        "(11000, 1.2278178e-11, array([ 1.00000429], dtype=float32), array([ -8.61279932e-06], dtype=float32))\n",
        "(11020, 1.2278178e-11, array([ 1.00000429], dtype=float32), array([ -8.61279932e-06], dtype=float32))\n",
        "(11040, 1.2278178e-11, array([ 1.00000429], dtype=float32), array([ -8.61279932e-06], dtype=float32))\n",
        "(11060, 1.2278178e-11, array([ 1.00000429], dtype=float32), array([ -8.61279932e-06], dtype=float32))\n",
        "(11080, 1.2278178e-11, array([ 1.00000429], dtype=float32), array([ -8.61279932e-06], dtype=float32))"
       ]
      },
      {
       "output_type": "stream",
       "stream": "stdout",
       "text": [
        "\n",
        "(11100, 1.2278178e-11, array([ 1.00000429], dtype=float32), array([ -8.61279932e-06], dtype=float32))\n",
        "(11120, 1.2278178e-11, array([ 1.00000429], dtype=float32), array([ -8.61279932e-06], dtype=float32))\n",
        "(11140, 1.2278178e-11, array([ 1.00000429], dtype=float32), array([ -8.61279932e-06], dtype=float32))\n",
        "(11160, 1.2278178e-11, array([ 1.00000429], dtype=float32), array([ -8.61279932e-06], dtype=float32))\n",
        "(11180, 1.2278178e-11, array([ 1.00000429], dtype=float32), array([ -8.61279932e-06], dtype=float32))\n",
        "(11200, 1.2278178e-11, array([ 1.00000429], dtype=float32), array([ -8.61279932e-06], dtype=float32))\n",
        "(11220, 1.2278178e-11, array([ 1.00000429], dtype=float32), array([ -8.61279932e-06], dtype=float32))"
       ]
      },
      {
       "output_type": "stream",
       "stream": "stdout",
       "text": [
        "\n",
        "(11240, 1.2278178e-11, array([ 1.00000429], dtype=float32), array([ -8.61279932e-06], dtype=float32))\n",
        "(11260, 1.2278178e-11, array([ 1.00000429], dtype=float32), array([ -8.61279932e-06], dtype=float32))\n",
        "(11280, 1.2278178e-11, array([ 1.00000429], dtype=float32), array([ -8.61279932e-06], dtype=float32))\n",
        "(11300, 1.2278178e-11, array([ 1.00000429], dtype=float32), array([ -8.61279932e-06], dtype=float32))\n",
        "(11320, 1.2278178e-11, array([ 1.00000429], dtype=float32), array([ -8.61279932e-06], dtype=float32))\n",
        "(11340, 1.2278178e-11, array([ 1.00000429], dtype=float32), array([ -8.61279932e-06], dtype=float32))\n",
        "(11360, 1.2278178e-11, array([ 1.00000429], dtype=float32), array([ -8.61279932e-06], dtype=float32))"
       ]
      },
      {
       "output_type": "stream",
       "stream": "stdout",
       "text": [
        "\n",
        "(11380, 1.2278178e-11, array([ 1.00000429], dtype=float32), array([ -8.61279932e-06], dtype=float32))\n",
        "(11400, 1.2278178e-11, array([ 1.00000429], dtype=float32), array([ -8.61279932e-06], dtype=float32))\n",
        "(11420, 1.2278178e-11, array([ 1.00000429], dtype=float32), array([ -8.61279932e-06], dtype=float32))\n",
        "(11440, 1.2278178e-11, array([ 1.00000429], dtype=float32), array([ -8.61279932e-06], dtype=float32))\n",
        "(11460, 1.2278178e-11, array([ 1.00000429], dtype=float32), array([ -8.61279932e-06], dtype=float32))\n",
        "(11480, 1.2278178e-11, array([ 1.00000429], dtype=float32), array([ -8.61279932e-06], dtype=float32))\n",
        "(11500, 1.2278178e-11, array([ 1.00000429], dtype=float32), array([ -8.61279932e-06], dtype=float32))"
       ]
      },
      {
       "output_type": "stream",
       "stream": "stdout",
       "text": [
        "\n",
        "(11520, 1.2278178e-11, array([ 1.00000429], dtype=float32), array([ -8.61279932e-06], dtype=float32))\n",
        "(11540, 1.2278178e-11, array([ 1.00000429], dtype=float32), array([ -8.61279932e-06], dtype=float32))\n",
        "(11560, 1.2278178e-11, array([ 1.00000429], dtype=float32), array([ -8.61279932e-06], dtype=float32))\n",
        "(11580, 1.2278178e-11, array([ 1.00000429], dtype=float32), array([ -8.61279932e-06], dtype=float32))\n",
        "(11600, 1.2278178e-11, array([ 1.00000429], dtype=float32), array([ -8.61279932e-06], dtype=float32))\n",
        "(11620, 1.2278178e-11, array([ 1.00000429], dtype=float32), array([ -8.61279932e-06], dtype=float32))\n",
        "(11640, 1.2278178e-11, array([ 1.00000429], dtype=float32), array([ -8.61279932e-06], dtype=float32))\n",
        "(11660, 1.2278178e-11, array([ 1.00000429], dtype=float32), array([ -8.61279932e-06], dtype=float32))"
       ]
      },
      {
       "output_type": "stream",
       "stream": "stdout",
       "text": [
        "\n",
        "(11680, 1.2278178e-11, array([ 1.00000429], dtype=float32), array([ -8.61279932e-06], dtype=float32))\n",
        "(11700, 1.2278178e-11, array([ 1.00000429], dtype=float32), array([ -8.61279932e-06], dtype=float32))\n",
        "(11720, 1.2278178e-11, array([ 1.00000429], dtype=float32), array([ -8.61279932e-06], dtype=float32))\n",
        "(11740, 1.2278178e-11, array([ 1.00000429], dtype=float32), array([ -8.61279932e-06], dtype=float32))\n",
        "(11760, 1.2278178e-11, array([ 1.00000429], dtype=float32), array([ -8.61279932e-06], dtype=float32))\n",
        "(11780, 1.2278178e-11, array([ 1.00000429], dtype=float32), array([ -8.61279932e-06], dtype=float32))\n",
        "(11800, 1.2278178e-11, array([ 1.00000429], dtype=float32), array([ -8.61279932e-06], dtype=float32))"
       ]
      },
      {
       "output_type": "stream",
       "stream": "stdout",
       "text": [
        "\n",
        "(11820, 1.2278178e-11, array([ 1.00000429], dtype=float32), array([ -8.61279932e-06], dtype=float32))\n",
        "(11840, 1.2278178e-11, array([ 1.00000429], dtype=float32), array([ -8.61279932e-06], dtype=float32))\n",
        "(11860, 1.2278178e-11, array([ 1.00000429], dtype=float32), array([ -8.61279932e-06], dtype=float32))\n",
        "(11880, 1.2278178e-11, array([ 1.00000429], dtype=float32), array([ -8.61279932e-06], dtype=float32))\n",
        "(11900, 1.2278178e-11, array([ 1.00000429], dtype=float32), array([ -8.61279932e-06], dtype=float32))\n",
        "(11920, 1.2278178e-11, array([ 1.00000429], dtype=float32), array([ -8.61279932e-06], dtype=float32))\n",
        "(11940, 1.2278178e-11, array([ 1.00000429], dtype=float32), array([ -8.61279932e-06], dtype=float32))\n",
        "(11960, 1.2278178e-11, array([ 1.00000429], dtype=float32), array([ -8.61279932e-06], dtype=float32))"
       ]
      },
      {
       "output_type": "stream",
       "stream": "stdout",
       "text": [
        "\n",
        "(11980, 1.2278178e-11, array([ 1.00000429], dtype=float32), array([ -8.61279932e-06], dtype=float32))\n",
        "(12000, 1.2278178e-11, array([ 1.00000429], dtype=float32), array([ -8.61279932e-06], dtype=float32))\n",
        "(12020, 1.2278178e-11, array([ 1.00000429], dtype=float32), array([ -8.61279932e-06], dtype=float32))\n",
        "(12040, 1.2278178e-11, array([ 1.00000429], dtype=float32), array([ -8.61279932e-06], dtype=float32))\n",
        "(12060, 1.2278178e-11, array([ 1.00000429], dtype=float32), array([ -8.61279932e-06], dtype=float32))\n",
        "(12080, 1.2278178e-11, array([ 1.00000429], dtype=float32), array([ -8.61279932e-06], dtype=float32))\n",
        "(12100, 1.2278178e-11, array([ 1.00000429], dtype=float32), array([ -8.61279932e-06], dtype=float32))\n",
        "(12120, 1.2278178e-11, array([ 1.00000429], dtype=float32), array([ -8.61279932e-06], dtype=float32))"
       ]
      },
      {
       "output_type": "stream",
       "stream": "stdout",
       "text": [
        "\n",
        "(12140, 1.2278178e-11, array([ 1.00000429], dtype=float32), array([ -8.61279932e-06], dtype=float32))\n",
        "(12160, 1.2278178e-11, array([ 1.00000429], dtype=float32), array([ -8.61279932e-06], dtype=float32))\n",
        "(12180, 1.2278178e-11, array([ 1.00000429], dtype=float32), array([ -8.61279932e-06], dtype=float32))\n",
        "(12200, 1.2278178e-11, array([ 1.00000429], dtype=float32), array([ -8.61279932e-06], dtype=float32))\n",
        "(12220, 1.2278178e-11, array([ 1.00000429], dtype=float32), array([ -8.61279932e-06], dtype=float32))\n",
        "(12240, 1.2278178e-11, array([ 1.00000429], dtype=float32), array([ -8.61279932e-06], dtype=float32))\n",
        "(12260, 1.2278178e-11, array([ 1.00000429], dtype=float32), array([ -8.61279932e-06], dtype=float32))"
       ]
      },
      {
       "output_type": "stream",
       "stream": "stdout",
       "text": [
        "\n",
        "(12280, 1.2278178e-11, array([ 1.00000429], dtype=float32), array([ -8.61279932e-06], dtype=float32))\n",
        "(12300, 1.2278178e-11, array([ 1.00000429], dtype=float32), array([ -8.61279932e-06], dtype=float32))\n",
        "(12320, 1.2278178e-11, array([ 1.00000429], dtype=float32), array([ -8.61279932e-06], dtype=float32))\n",
        "(12340, 1.2278178e-11, array([ 1.00000429], dtype=float32), array([ -8.61279932e-06], dtype=float32))\n",
        "(12360, 1.2278178e-11, array([ 1.00000429], dtype=float32), array([ -8.61279932e-06], dtype=float32))\n",
        "(12380, 1.2278178e-11, array([ 1.00000429], dtype=float32), array([ -8.61279932e-06], dtype=float32))\n",
        "(12400, 1.2278178e-11, array([ 1.00000429], dtype=float32), array([ -8.61279932e-06], dtype=float32))"
       ]
      },
      {
       "output_type": "stream",
       "stream": "stdout",
       "text": [
        "\n",
        "(12420, 1.2278178e-11, array([ 1.00000429], dtype=float32), array([ -8.61279932e-06], dtype=float32))\n",
        "(12440, 1.2278178e-11, array([ 1.00000429], dtype=float32), array([ -8.61279932e-06], dtype=float32))\n",
        "(12460, 1.2278178e-11, array([ 1.00000429], dtype=float32), array([ -8.61279932e-06], dtype=float32))\n",
        "(12480, 1.2278178e-11, array([ 1.00000429], dtype=float32), array([ -8.61279932e-06], dtype=float32))\n",
        "(12500, 1.2278178e-11, array([ 1.00000429], dtype=float32), array([ -8.61279932e-06], dtype=float32))\n",
        "(12520, 1.2278178e-11, array([ 1.00000429], dtype=float32), array([ -8.61279932e-06], dtype=float32))\n",
        "(12540, 1.2278178e-11, array([ 1.00000429], dtype=float32), array([ -8.61279932e-06], dtype=float32))"
       ]
      },
      {
       "output_type": "stream",
       "stream": "stdout",
       "text": [
        "\n",
        "(12560, 1.2278178e-11, array([ 1.00000429], dtype=float32), array([ -8.61279932e-06], dtype=float32))\n",
        "(12580, 1.2278178e-11, array([ 1.00000429], dtype=float32), array([ -8.61279932e-06], dtype=float32))\n",
        "(12600, 1.2278178e-11, array([ 1.00000429], dtype=float32), array([ -8.61279932e-06], dtype=float32))\n",
        "(12620, 1.2278178e-11, array([ 1.00000429], dtype=float32), array([ -8.61279932e-06], dtype=float32))\n",
        "(12640, 1.2278178e-11, array([ 1.00000429], dtype=float32), array([ -8.61279932e-06], dtype=float32))\n",
        "(12660, 1.2278178e-11, array([ 1.00000429], dtype=float32), array([ -8.61279932e-06], dtype=float32))\n",
        "(12680, 1.2278178e-11, array([ 1.00000429], dtype=float32), array([ -8.61279932e-06], dtype=float32))\n"
       ]
      },
      {
       "output_type": "stream",
       "stream": "stdout",
       "text": [
        "(12700, 1.2278178e-11, array([ 1.00000429], dtype=float32), array([ -8.61279932e-06], dtype=float32))\n",
        "(12720, 1.2278178e-11, array([ 1.00000429], dtype=float32), array([ -8.61279932e-06], dtype=float32))\n",
        "(12740, 1.2278178e-11, array([ 1.00000429], dtype=float32), array([ -8.61279932e-06], dtype=float32))\n",
        "(12760, 1.2278178e-11, array([ 1.00000429], dtype=float32), array([ -8.61279932e-06], dtype=float32))\n",
        "(12780, 1.2278178e-11, array([ 1.00000429], dtype=float32), array([ -8.61279932e-06], dtype=float32))\n",
        "(12800, 1.2278178e-11, array([ 1.00000429], dtype=float32), array([ -8.61279932e-06], dtype=float32))\n",
        "(12820, 1.2278178e-11, array([ 1.00000429], dtype=float32), array([ -8.61279932e-06], dtype=float32))"
       ]
      },
      {
       "output_type": "stream",
       "stream": "stdout",
       "text": [
        "\n",
        "(12840, 1.2278178e-11, array([ 1.00000429], dtype=float32), array([ -8.61279932e-06], dtype=float32))\n",
        "(12860, 1.2278178e-11, array([ 1.00000429], dtype=float32), array([ -8.61279932e-06], dtype=float32))\n",
        "(12880, 1.2278178e-11, array([ 1.00000429], dtype=float32), array([ -8.61279932e-06], dtype=float32))\n",
        "(12900, 1.2278178e-11, array([ 1.00000429], dtype=float32), array([ -8.61279932e-06], dtype=float32))\n",
        "(12920, 1.2278178e-11, array([ 1.00000429], dtype=float32), array([ -8.61279932e-06], dtype=float32))\n",
        "(12940, 1.2278178e-11, array([ 1.00000429], dtype=float32), array([ -8.61279932e-06], dtype=float32))"
       ]
      },
      {
       "output_type": "stream",
       "stream": "stdout",
       "text": [
        "\n",
        "(12960, 1.2278178e-11, array([ 1.00000429], dtype=float32), array([ -8.61279932e-06], dtype=float32))\n",
        "(12980, 1.2278178e-11, array([ 1.00000429], dtype=float32), array([ -8.61279932e-06], dtype=float32))\n",
        "(13000, 1.2278178e-11, array([ 1.00000429], dtype=float32), array([ -8.61279932e-06], dtype=float32))\n",
        "(13020, 1.2278178e-11, array([ 1.00000429], dtype=float32), array([ -8.61279932e-06], dtype=float32))\n",
        "(13040, 1.2278178e-11, array([ 1.00000429], dtype=float32), array([ -8.61279932e-06], dtype=float32))\n",
        "(13060, 1.2278178e-11, array([ 1.00000429], dtype=float32), array([ -8.61279932e-06], dtype=float32))"
       ]
      },
      {
       "output_type": "stream",
       "stream": "stdout",
       "text": [
        "\n",
        "(13080, 1.2278178e-11, array([ 1.00000429], dtype=float32), array([ -8.61279932e-06], dtype=float32))\n",
        "(13100, 1.2278178e-11, array([ 1.00000429], dtype=float32), array([ -8.61279932e-06], dtype=float32))\n",
        "(13120, 1.2278178e-11, array([ 1.00000429], dtype=float32), array([ -8.61279932e-06], dtype=float32))\n",
        "(13140, 1.2278178e-11, array([ 1.00000429], dtype=float32), array([ -8.61279932e-06], dtype=float32))\n",
        "(13160, 1.2278178e-11, array([ 1.00000429], dtype=float32), array([ -8.61279932e-06], dtype=float32))\n",
        "(13180, 1.2278178e-11, array([ 1.00000429], dtype=float32), array([ -8.61279932e-06], dtype=float32))"
       ]
      },
      {
       "output_type": "stream",
       "stream": "stdout",
       "text": [
        "\n",
        "(13200, 1.2278178e-11, array([ 1.00000429], dtype=float32), array([ -8.61279932e-06], dtype=float32))\n",
        "(13220, 1.2278178e-11, array([ 1.00000429], dtype=float32), array([ -8.61279932e-06], dtype=float32))\n",
        "(13240, 1.2278178e-11, array([ 1.00000429], dtype=float32), array([ -8.61279932e-06], dtype=float32))\n",
        "(13260, 1.2278178e-11, array([ 1.00000429], dtype=float32), array([ -8.61279932e-06], dtype=float32))\n",
        "(13280, 1.2278178e-11, array([ 1.00000429], dtype=float32), array([ -8.61279932e-06], dtype=float32))\n",
        "(13300, 1.2278178e-11, array([ 1.00000429], dtype=float32), array([ -8.61279932e-06], dtype=float32))"
       ]
      },
      {
       "output_type": "stream",
       "stream": "stdout",
       "text": [
        "\n",
        "(13320, 1.2278178e-11, array([ 1.00000429], dtype=float32), array([ -8.61279932e-06], dtype=float32))\n",
        "(13340, 1.2278178e-11, array([ 1.00000429], dtype=float32), array([ -8.61279932e-06], dtype=float32))\n",
        "(13360, 1.2278178e-11, array([ 1.00000429], dtype=float32), array([ -8.61279932e-06], dtype=float32))\n",
        "(13380, 1.2278178e-11, array([ 1.00000429], dtype=float32), array([ -8.61279932e-06], dtype=float32))\n",
        "(13400, 1.2278178e-11, array([ 1.00000429], dtype=float32), array([ -8.61279932e-06], dtype=float32))\n",
        "(13420, 1.2278178e-11, array([ 1.00000429], dtype=float32), array([ -8.61279932e-06], dtype=float32))"
       ]
      },
      {
       "output_type": "stream",
       "stream": "stdout",
       "text": [
        "\n",
        "(13440, 1.2278178e-11, array([ 1.00000429], dtype=float32), array([ -8.61279932e-06], dtype=float32))\n",
        "(13460, 1.2278178e-11, array([ 1.00000429], dtype=float32), array([ -8.61279932e-06], dtype=float32))\n",
        "(13480, 1.2278178e-11, array([ 1.00000429], dtype=float32), array([ -8.61279932e-06], dtype=float32))\n",
        "(13500, 1.2278178e-11, array([ 1.00000429], dtype=float32), array([ -8.61279932e-06], dtype=float32))\n",
        "(13520, 1.2278178e-11, array([ 1.00000429], dtype=float32), array([ -8.61279932e-06], dtype=float32))\n",
        "(13540, 1.2278178e-11, array([ 1.00000429], dtype=float32), array([ -8.61279932e-06], dtype=float32))"
       ]
      },
      {
       "output_type": "stream",
       "stream": "stdout",
       "text": [
        "\n",
        "(13560, 1.2278178e-11, array([ 1.00000429], dtype=float32), array([ -8.61279932e-06], dtype=float32))\n",
        "(13580, 1.2278178e-11, array([ 1.00000429], dtype=float32), array([ -8.61279932e-06], dtype=float32))\n",
        "(13600, 1.2278178e-11, array([ 1.00000429], dtype=float32), array([ -8.61279932e-06], dtype=float32))\n",
        "(13620, 1.2278178e-11, array([ 1.00000429], dtype=float32), array([ -8.61279932e-06], dtype=float32))\n",
        "(13640, 1.2278178e-11, array([ 1.00000429], dtype=float32), array([ -8.61279932e-06], dtype=float32))\n",
        "(13660, 1.2278178e-11, array([ 1.00000429], dtype=float32), array([ -8.61279932e-06], dtype=float32))\n",
        "(13680, 1.2278178e-11, array([ 1.00000429], dtype=float32), array([ -8.61279932e-06], dtype=float32))"
       ]
      },
      {
       "output_type": "stream",
       "stream": "stdout",
       "text": [
        "\n",
        "(13700, 1.2278178e-11, array([ 1.00000429], dtype=float32), array([ -8.61279932e-06], dtype=float32))\n",
        "(13720, 1.2278178e-11, array([ 1.00000429], dtype=float32), array([ -8.61279932e-06], dtype=float32))\n",
        "(13740, 1.2278178e-11, array([ 1.00000429], dtype=float32), array([ -8.61279932e-06], dtype=float32))\n",
        "(13760, 1.2278178e-11, array([ 1.00000429], dtype=float32), array([ -8.61279932e-06], dtype=float32))\n",
        "(13780, 1.2278178e-11, array([ 1.00000429], dtype=float32), array([ -8.61279932e-06], dtype=float32))\n",
        "(13800, 1.2278178e-11, array([ 1.00000429], dtype=float32), array([ -8.61279932e-06], dtype=float32))\n",
        "(13820, 1.2278178e-11, array([ 1.00000429], dtype=float32), array([ -8.61279932e-06], dtype=float32))"
       ]
      },
      {
       "output_type": "stream",
       "stream": "stdout",
       "text": [
        "\n",
        "(13840, 1.2278178e-11, array([ 1.00000429], dtype=float32), array([ -8.61279932e-06], dtype=float32))\n",
        "(13860, 1.2278178e-11, array([ 1.00000429], dtype=float32), array([ -8.61279932e-06], dtype=float32))\n",
        "(13880, 1.2278178e-11, array([ 1.00000429], dtype=float32), array([ -8.61279932e-06], dtype=float32))\n",
        "(13900, 1.2278178e-11, array([ 1.00000429], dtype=float32), array([ -8.61279932e-06], dtype=float32))\n",
        "(13920, 1.2278178e-11, array([ 1.00000429], dtype=float32), array([ -8.61279932e-06], dtype=float32))\n",
        "(13940, 1.2278178e-11, array([ 1.00000429], dtype=float32), array([ -8.61279932e-06], dtype=float32))\n",
        "(13960, 1.2278178e-11, array([ 1.00000429], dtype=float32), array([ -8.61279932e-06], dtype=float32))"
       ]
      },
      {
       "output_type": "stream",
       "stream": "stdout",
       "text": [
        "\n",
        "(13980, 1.2278178e-11, array([ 1.00000429], dtype=float32), array([ -8.61279932e-06], dtype=float32))\n",
        "(14000, 1.2278178e-11, array([ 1.00000429], dtype=float32), array([ -8.61279932e-06], dtype=float32))\n",
        "(14020, 1.2278178e-11, array([ 1.00000429], dtype=float32), array([ -8.61279932e-06], dtype=float32))\n",
        "(14040, 1.2278178e-11, array([ 1.00000429], dtype=float32), array([ -8.61279932e-06], dtype=float32))\n",
        "(14060, 1.2278178e-11, array([ 1.00000429], dtype=float32), array([ -8.61279932e-06], dtype=float32))\n",
        "(14080, 1.2278178e-11, array([ 1.00000429], dtype=float32), array([ -8.61279932e-06], dtype=float32))"
       ]
      },
      {
       "output_type": "stream",
       "stream": "stdout",
       "text": [
        "\n",
        "(14100, 1.2278178e-11, array([ 1.00000429], dtype=float32), array([ -8.61279932e-06], dtype=float32))\n",
        "(14120, 1.2278178e-11, array([ 1.00000429], dtype=float32), array([ -8.61279932e-06], dtype=float32))\n",
        "(14140, 1.2278178e-11, array([ 1.00000429], dtype=float32), array([ -8.61279932e-06], dtype=float32))\n",
        "(14160, 1.2278178e-11, array([ 1.00000429], dtype=float32), array([ -8.61279932e-06], dtype=float32))\n",
        "(14180, 1.2278178e-11, array([ 1.00000429], dtype=float32), array([ -8.61279932e-06], dtype=float32))\n",
        "(14200, 1.2278178e-11, array([ 1.00000429], dtype=float32), array([ -8.61279932e-06], dtype=float32))"
       ]
      },
      {
       "output_type": "stream",
       "stream": "stdout",
       "text": [
        "\n",
        "(14220, 1.2278178e-11, array([ 1.00000429], dtype=float32), array([ -8.61279932e-06], dtype=float32))\n",
        "(14240, 1.2278178e-11, array([ 1.00000429], dtype=float32), array([ -8.61279932e-06], dtype=float32))\n",
        "(14260, 1.2278178e-11, array([ 1.00000429], dtype=float32), array([ -8.61279932e-06], dtype=float32))\n",
        "(14280, 1.2278178e-11, array([ 1.00000429], dtype=float32), array([ -8.61279932e-06], dtype=float32))\n",
        "(14300, 1.2278178e-11, array([ 1.00000429], dtype=float32), array([ -8.61279932e-06], dtype=float32))\n",
        "(14320, 1.2278178e-11, array([ 1.00000429], dtype=float32), array([ -8.61279932e-06], dtype=float32))"
       ]
      },
      {
       "output_type": "stream",
       "stream": "stdout",
       "text": [
        "\n",
        "(14340, 1.2278178e-11, array([ 1.00000429], dtype=float32), array([ -8.61279932e-06], dtype=float32))\n",
        "(14360, 1.2278178e-11, array([ 1.00000429], dtype=float32), array([ -8.61279932e-06], dtype=float32))\n",
        "(14380, 1.2278178e-11, array([ 1.00000429], dtype=float32), array([ -8.61279932e-06], dtype=float32))\n",
        "(14400, 1.2278178e-11, array([ 1.00000429], dtype=float32), array([ -8.61279932e-06], dtype=float32))\n",
        "(14420, 1.2278178e-11, array([ 1.00000429], dtype=float32), array([ -8.61279932e-06], dtype=float32))\n",
        "(14440, 1.2278178e-11, array([ 1.00000429], dtype=float32), array([ -8.61279932e-06], dtype=float32))"
       ]
      },
      {
       "output_type": "stream",
       "stream": "stdout",
       "text": [
        "\n",
        "(14460, 1.2278178e-11, array([ 1.00000429], dtype=float32), array([ -8.61279932e-06], dtype=float32))\n",
        "(14480, 1.2278178e-11, array([ 1.00000429], dtype=float32), array([ -8.61279932e-06], dtype=float32))\n",
        "(14500, 1.2278178e-11, array([ 1.00000429], dtype=float32), array([ -8.61279932e-06], dtype=float32))\n",
        "(14520, 1.2278178e-11, array([ 1.00000429], dtype=float32), array([ -8.61279932e-06], dtype=float32))\n",
        "(14540, 1.2278178e-11, array([ 1.00000429], dtype=float32), array([ -8.61279932e-06], dtype=float32))\n",
        "(14560, 1.2278178e-11, array([ 1.00000429], dtype=float32), array([ -8.61279932e-06], dtype=float32))"
       ]
      },
      {
       "output_type": "stream",
       "stream": "stdout",
       "text": [
        "\n",
        "(14580, 1.2278178e-11, array([ 1.00000429], dtype=float32), array([ -8.61279932e-06], dtype=float32))\n",
        "(14600, 1.2278178e-11, array([ 1.00000429], dtype=float32), array([ -8.61279932e-06], dtype=float32))\n",
        "(14620, 1.2278178e-11, array([ 1.00000429], dtype=float32), array([ -8.61279932e-06], dtype=float32))\n",
        "(14640, 1.2278178e-11, array([ 1.00000429], dtype=float32), array([ -8.61279932e-06], dtype=float32))\n",
        "(14660, 1.2278178e-11, array([ 1.00000429], dtype=float32), array([ -8.61279932e-06], dtype=float32))\n",
        "(14680, 1.2278178e-11, array([ 1.00000429], dtype=float32), array([ -8.61279932e-06], dtype=float32))"
       ]
      },
      {
       "output_type": "stream",
       "stream": "stdout",
       "text": [
        "\n",
        "(14700, 1.2278178e-11, array([ 1.00000429], dtype=float32), array([ -8.61279932e-06], dtype=float32))\n",
        "(14720, 1.2278178e-11, array([ 1.00000429], dtype=float32), array([ -8.61279932e-06], dtype=float32))\n",
        "(14740, 1.2278178e-11, array([ 1.00000429], dtype=float32), array([ -8.61279932e-06], dtype=float32))\n",
        "(14760, 1.2278178e-11, array([ 1.00000429], dtype=float32), array([ -8.61279932e-06], dtype=float32))\n",
        "(14780, 1.2278178e-11, array([ 1.00000429], dtype=float32), array([ -8.61279932e-06], dtype=float32))\n",
        "(14800, 1.2278178e-11, array([ 1.00000429], dtype=float32), array([ -8.61279932e-06], dtype=float32))\n",
        "(14820, 1.2278178e-11, array([ 1.00000429], dtype=float32), array([ -8.61279932e-06], dtype=float32))"
       ]
      },
      {
       "output_type": "stream",
       "stream": "stdout",
       "text": [
        "\n",
        "(14840, 1.2278178e-11, array([ 1.00000429], dtype=float32), array([ -8.61279932e-06], dtype=float32))\n",
        "(14860, 1.2278178e-11, array([ 1.00000429], dtype=float32), array([ -8.61279932e-06], dtype=float32))\n",
        "(14880, 1.2278178e-11, array([ 1.00000429], dtype=float32), array([ -8.61279932e-06], dtype=float32))\n",
        "(14900, 1.2278178e-11, array([ 1.00000429], dtype=float32), array([ -8.61279932e-06], dtype=float32))\n",
        "(14920, 1.2278178e-11, array([ 1.00000429], dtype=float32), array([ -8.61279932e-06], dtype=float32))\n",
        "(14940, 1.2278178e-11, array([ 1.00000429], dtype=float32), array([ -8.61279932e-06], dtype=float32))\n",
        "(14960, 1.2278178e-11, array([ 1.00000429], dtype=float32), array([ -8.61279932e-06], dtype=float32))"
       ]
      },
      {
       "output_type": "stream",
       "stream": "stdout",
       "text": [
        "\n",
        "(14980, 1.2278178e-11, array([ 1.00000429], dtype=float32), array([ -8.61279932e-06], dtype=float32))\n",
        "(15000, 1.2278178e-11, array([ 1.00000429], dtype=float32), array([ -8.61279932e-06], dtype=float32))\n",
        "(15020, 1.2278178e-11, array([ 1.00000429], dtype=float32), array([ -8.61279932e-06], dtype=float32))\n",
        "(15040, 1.2278178e-11, array([ 1.00000429], dtype=float32), array([ -8.61279932e-06], dtype=float32))\n",
        "(15060, 1.2278178e-11, array([ 1.00000429], dtype=float32), array([ -8.61279932e-06], dtype=float32))\n",
        "(15080, 1.2278178e-11, array([ 1.00000429], dtype=float32), array([ -8.61279932e-06], dtype=float32))\n",
        "(15100, 1.2278178e-11, array([ 1.00000429], dtype=float32), array([ -8.61279932e-06], dtype=float32))"
       ]
      },
      {
       "output_type": "stream",
       "stream": "stdout",
       "text": [
        "\n",
        "(15120, 1.2278178e-11, array([ 1.00000429], dtype=float32), array([ -8.61279932e-06], dtype=float32))\n",
        "(15140, 1.2278178e-11, array([ 1.00000429], dtype=float32), array([ -8.61279932e-06], dtype=float32))\n",
        "(15160, 1.2278178e-11, array([ 1.00000429], dtype=float32), array([ -8.61279932e-06], dtype=float32))\n",
        "(15180, 1.2278178e-11, array([ 1.00000429], dtype=float32), array([ -8.61279932e-06], dtype=float32))\n",
        "(15200, 1.2278178e-11, array([ 1.00000429], dtype=float32), array([ -8.61279932e-06], dtype=float32))\n",
        "(15220, 1.2278178e-11, array([ 1.00000429], dtype=float32), array([ -8.61279932e-06], dtype=float32))\n",
        "(15240, 1.2278178e-11, array([ 1.00000429], dtype=float32), array([ -8.61279932e-06], dtype=float32))\n",
        "(15260, 1.2278178e-11, array([ 1.00000429], dtype=float32), array([ -8.61279932e-06], dtype=float32))"
       ]
      },
      {
       "output_type": "stream",
       "stream": "stdout",
       "text": [
        "\n",
        "(15280, 1.2278178e-11, array([ 1.00000429], dtype=float32), array([ -8.61279932e-06], dtype=float32))\n",
        "(15300, 1.2278178e-11, array([ 1.00000429], dtype=float32), array([ -8.61279932e-06], dtype=float32))\n",
        "(15320, 1.2278178e-11, array([ 1.00000429], dtype=float32), array([ -8.61279932e-06], dtype=float32))\n",
        "(15340, 1.2278178e-11, array([ 1.00000429], dtype=float32), array([ -8.61279932e-06], dtype=float32))\n",
        "(15360, 1.2278178e-11, array([ 1.00000429], dtype=float32), array([ -8.61279932e-06], dtype=float32))\n",
        "(15380, 1.2278178e-11, array([ 1.00000429], dtype=float32), array([ -8.61279932e-06], dtype=float32))\n",
        "(15400, 1.2278178e-11, array([ 1.00000429], dtype=float32), array([ -8.61279932e-06], dtype=float32))"
       ]
      },
      {
       "output_type": "stream",
       "stream": "stdout",
       "text": [
        "\n",
        "(15420, 1.2278178e-11, array([ 1.00000429], dtype=float32), array([ -8.61279932e-06], dtype=float32))\n",
        "(15440, 1.2278178e-11, array([ 1.00000429], dtype=float32), array([ -8.61279932e-06], dtype=float32))\n",
        "(15460, 1.2278178e-11, array([ 1.00000429], dtype=float32), array([ -8.61279932e-06], dtype=float32))\n",
        "(15480, 1.2278178e-11, array([ 1.00000429], dtype=float32), array([ -8.61279932e-06], dtype=float32))\n",
        "(15500, 1.2278178e-11, array([ 1.00000429], dtype=float32), array([ -8.61279932e-06], dtype=float32))\n",
        "(15520, 1.2278178e-11, array([ 1.00000429], dtype=float32), array([ -8.61279932e-06], dtype=float32))\n",
        "(15540, 1.2278178e-11, array([ 1.00000429], dtype=float32), array([ -8.61279932e-06], dtype=float32))"
       ]
      },
      {
       "output_type": "stream",
       "stream": "stdout",
       "text": [
        "\n",
        "(15560, 1.2278178e-11, array([ 1.00000429], dtype=float32), array([ -8.61279932e-06], dtype=float32))\n",
        "(15580, 1.2278178e-11, array([ 1.00000429], dtype=float32), array([ -8.61279932e-06], dtype=float32))\n",
        "(15600, 1.2278178e-11, array([ 1.00000429], dtype=float32), array([ -8.61279932e-06], dtype=float32))\n",
        "(15620, 1.2278178e-11, array([ 1.00000429], dtype=float32), array([ -8.61279932e-06], dtype=float32))\n",
        "(15640, 1.2278178e-11, array([ 1.00000429], dtype=float32), array([ -8.61279932e-06], dtype=float32))\n",
        "(15660, 1.2278178e-11, array([ 1.00000429], dtype=float32), array([ -8.61279932e-06], dtype=float32))\n",
        "(15680, 1.2278178e-11, array([ 1.00000429], dtype=float32), array([ -8.61279932e-06], dtype=float32))\n",
        "(15700, 1.2278178e-11, array([ 1.00000429], dtype=float32), array([ -8.61279932e-06], dtype=float32))"
       ]
      },
      {
       "output_type": "stream",
       "stream": "stdout",
       "text": [
        "\n",
        "(15720, 1.2278178e-11, array([ 1.00000429], dtype=float32), array([ -8.61279932e-06], dtype=float32))\n",
        "(15740, 1.2278178e-11, array([ 1.00000429], dtype=float32), array([ -8.61279932e-06], dtype=float32))\n",
        "(15760, 1.2278178e-11, array([ 1.00000429], dtype=float32), array([ -8.61279932e-06], dtype=float32))\n",
        "(15780, 1.2278178e-11, array([ 1.00000429], dtype=float32), array([ -8.61279932e-06], dtype=float32))\n",
        "(15800, 1.2278178e-11, array([ 1.00000429], dtype=float32), array([ -8.61279932e-06], dtype=float32))\n",
        "(15820, 1.2278178e-11, array([ 1.00000429], dtype=float32), array([ -8.61279932e-06], dtype=float32))"
       ]
      },
      {
       "output_type": "stream",
       "stream": "stdout",
       "text": [
        "\n",
        "(15840, 1.2278178e-11, array([ 1.00000429], dtype=float32), array([ -8.61279932e-06], dtype=float32))\n",
        "(15860, 1.2278178e-11, array([ 1.00000429], dtype=float32), array([ -8.61279932e-06], dtype=float32))\n",
        "(15880, 1.2278178e-11, array([ 1.00000429], dtype=float32), array([ -8.61279932e-06], dtype=float32))\n",
        "(15900, 1.2278178e-11, array([ 1.00000429], dtype=float32), array([ -8.61279932e-06], dtype=float32))\n",
        "(15920, 1.2278178e-11, array([ 1.00000429], dtype=float32), array([ -8.61279932e-06], dtype=float32))\n",
        "(15940, 1.2278178e-11, array([ 1.00000429], dtype=float32), array([ -8.61279932e-06], dtype=float32))\n",
        "(15960, 1.2278178e-11, array([ 1.00000429], dtype=float32), array([ -8.61279932e-06], dtype=float32))"
       ]
      },
      {
       "output_type": "stream",
       "stream": "stdout",
       "text": [
        "\n",
        "(15980, 1.2278178e-11, array([ 1.00000429], dtype=float32), array([ -8.61279932e-06], dtype=float32))\n",
        "(16000, 1.2278178e-11, array([ 1.00000429], dtype=float32), array([ -8.61279932e-06], dtype=float32))\n",
        "(16020, 1.2278178e-11, array([ 1.00000429], dtype=float32), array([ -8.61279932e-06], dtype=float32))\n",
        "(16040, 1.2278178e-11, array([ 1.00000429], dtype=float32), array([ -8.61279932e-06], dtype=float32))\n",
        "(16060, 1.2278178e-11, array([ 1.00000429], dtype=float32), array([ -8.61279932e-06], dtype=float32))\n",
        "(16080, 1.2278178e-11, array([ 1.00000429], dtype=float32), array([ -8.61279932e-06], dtype=float32))\n",
        "(16100, 1.2278178e-11, array([ 1.00000429], dtype=float32), array([ -8.61279932e-06], dtype=float32))"
       ]
      },
      {
       "output_type": "stream",
       "stream": "stdout",
       "text": [
        "\n",
        "(16120, 1.2278178e-11, array([ 1.00000429], dtype=float32), array([ -8.61279932e-06], dtype=float32))\n",
        "(16140, 1.2278178e-11, array([ 1.00000429], dtype=float32), array([ -8.61279932e-06], dtype=float32))\n",
        "(16160, 1.2278178e-11, array([ 1.00000429], dtype=float32), array([ -8.61279932e-06], dtype=float32))\n",
        "(16180, 1.2278178e-11, array([ 1.00000429], dtype=float32), array([ -8.61279932e-06], dtype=float32))\n",
        "(16200, 1.2278178e-11, array([ 1.00000429], dtype=float32), array([ -8.61279932e-06], dtype=float32))\n",
        "(16220, 1.2278178e-11, array([ 1.00000429], dtype=float32), array([ -8.61279932e-06], dtype=float32))\n",
        "(16240, 1.2278178e-11, array([ 1.00000429], dtype=float32), array([ -8.61279932e-06], dtype=float32))"
       ]
      },
      {
       "output_type": "stream",
       "stream": "stdout",
       "text": [
        "\n",
        "(16260, 1.2278178e-11, array([ 1.00000429], dtype=float32), array([ -8.61279932e-06], dtype=float32))\n",
        "(16280, 1.2278178e-11, array([ 1.00000429], dtype=float32), array([ -8.61279932e-06], dtype=float32))\n",
        "(16300, 1.2278178e-11, array([ 1.00000429], dtype=float32), array([ -8.61279932e-06], dtype=float32))\n",
        "(16320, 1.2278178e-11, array([ 1.00000429], dtype=float32), array([ -8.61279932e-06], dtype=float32))\n",
        "(16340, 1.2278178e-11, array([ 1.00000429], dtype=float32), array([ -8.61279932e-06], dtype=float32))\n",
        "(16360, 1.2278178e-11, array([ 1.00000429], dtype=float32), array([ -8.61279932e-06], dtype=float32))\n",
        "(16380, 1.2278178e-11, array([ 1.00000429], dtype=float32), array([ -8.61279932e-06], dtype=float32))"
       ]
      },
      {
       "output_type": "stream",
       "stream": "stdout",
       "text": [
        "\n",
        "(16400, 1.2278178e-11, array([ 1.00000429], dtype=float32), array([ -8.61279932e-06], dtype=float32))\n",
        "(16420, 1.2278178e-11, array([ 1.00000429], dtype=float32), array([ -8.61279932e-06], dtype=float32))\n",
        "(16440, 1.2278178e-11, array([ 1.00000429], dtype=float32), array([ -8.61279932e-06], dtype=float32))\n",
        "(16460, 1.2278178e-11, array([ 1.00000429], dtype=float32), array([ -8.61279932e-06], dtype=float32))\n",
        "(16480, 1.2278178e-11, array([ 1.00000429], dtype=float32), array([ -8.61279932e-06], dtype=float32))\n",
        "(16500, 1.2278178e-11, array([ 1.00000429], dtype=float32), array([ -8.61279932e-06], dtype=float32))\n",
        "(16520, 1.2278178e-11, array([ 1.00000429], dtype=float32), array([ -8.61279932e-06], dtype=float32))\n",
        "(16540, 1.2278178e-11, array([ 1.00000429], dtype=float32), array([ -8.61279932e-06], dtype=float32))"
       ]
      },
      {
       "output_type": "stream",
       "stream": "stdout",
       "text": [
        "\n",
        "(16560, 1.2278178e-11, array([ 1.00000429], dtype=float32), array([ -8.61279932e-06], dtype=float32))\n",
        "(16580, 1.2278178e-11, array([ 1.00000429], dtype=float32), array([ -8.61279932e-06], dtype=float32))\n",
        "(16600, 1.2278178e-11, array([ 1.00000429], dtype=float32), array([ -8.61279932e-06], dtype=float32))\n",
        "(16620, 1.2278178e-11, array([ 1.00000429], dtype=float32), array([ -8.61279932e-06], dtype=float32))\n",
        "(16640, 1.2278178e-11, array([ 1.00000429], dtype=float32), array([ -8.61279932e-06], dtype=float32))\n",
        "(16660, 1.2278178e-11, array([ 1.00000429], dtype=float32), array([ -8.61279932e-06], dtype=float32))\n",
        "(16680, 1.2278178e-11, array([ 1.00000429], dtype=float32), array([ -8.61279932e-06], dtype=float32))"
       ]
      },
      {
       "output_type": "stream",
       "stream": "stdout",
       "text": [
        "\n",
        "(16700, 1.2278178e-11, array([ 1.00000429], dtype=float32), array([ -8.61279932e-06], dtype=float32))\n",
        "(16720, 1.2278178e-11, array([ 1.00000429], dtype=float32), array([ -8.61279932e-06], dtype=float32))\n",
        "(16740, 1.2278178e-11, array([ 1.00000429], dtype=float32), array([ -8.61279932e-06], dtype=float32))\n",
        "(16760, 1.2278178e-11, array([ 1.00000429], dtype=float32), array([ -8.61279932e-06], dtype=float32))\n",
        "(16780, 1.2278178e-11, array([ 1.00000429], dtype=float32), array([ -8.61279932e-06], dtype=float32))\n",
        "(16800, 1.2278178e-11, array([ 1.00000429], dtype=float32), array([ -8.61279932e-06], dtype=float32))"
       ]
      },
      {
       "output_type": "stream",
       "stream": "stdout",
       "text": [
        "\n",
        "(16820, 1.2278178e-11, array([ 1.00000429], dtype=float32), array([ -8.61279932e-06], dtype=float32))\n",
        "(16840, 1.2278178e-11, array([ 1.00000429], dtype=float32), array([ -8.61279932e-06], dtype=float32))\n",
        "(16860, 1.2278178e-11, array([ 1.00000429], dtype=float32), array([ -8.61279932e-06], dtype=float32))\n",
        "(16880, 1.2278178e-11, array([ 1.00000429], dtype=float32), array([ -8.61279932e-06], dtype=float32))\n",
        "(16900, 1.2278178e-11, array([ 1.00000429], dtype=float32), array([ -8.61279932e-06], dtype=float32))\n",
        "(16920, 1.2278178e-11, array([ 1.00000429], dtype=float32), array([ -8.61279932e-06], dtype=float32))\n",
        "(16940, 1.2278178e-11, array([ 1.00000429], dtype=float32), array([ -8.61279932e-06], dtype=float32))\n",
        "(16960, 1.2278178e-11, array([ 1.00000429], dtype=float32), array([ -8.61279932e-06], dtype=float32))"
       ]
      },
      {
       "output_type": "stream",
       "stream": "stdout",
       "text": [
        "\n",
        "(16980, 1.2278178e-11, array([ 1.00000429], dtype=float32), array([ -8.61279932e-06], dtype=float32))\n",
        "(17000, 1.2278178e-11, array([ 1.00000429], dtype=float32), array([ -8.61279932e-06], dtype=float32))\n",
        "(17020, 1.2278178e-11, array([ 1.00000429], dtype=float32), array([ -8.61279932e-06], dtype=float32))\n",
        "(17040, 1.2278178e-11, array([ 1.00000429], dtype=float32), array([ -8.61279932e-06], dtype=float32))\n",
        "(17060, 1.2278178e-11, array([ 1.00000429], dtype=float32), array([ -8.61279932e-06], dtype=float32))\n",
        "(17080, 1.2278178e-11, array([ 1.00000429], dtype=float32), array([ -8.61279932e-06], dtype=float32))"
       ]
      },
      {
       "output_type": "stream",
       "stream": "stdout",
       "text": [
        "\n",
        "(17100, 1.2278178e-11, array([ 1.00000429], dtype=float32), array([ -8.61279932e-06], dtype=float32))\n",
        "(17120, 1.2278178e-11, array([ 1.00000429], dtype=float32), array([ -8.61279932e-06], dtype=float32))\n",
        "(17140, 1.2278178e-11, array([ 1.00000429], dtype=float32), array([ -8.61279932e-06], dtype=float32))\n",
        "(17160, 1.2278178e-11, array([ 1.00000429], dtype=float32), array([ -8.61279932e-06], dtype=float32))\n",
        "(17180, 1.2278178e-11, array([ 1.00000429], dtype=float32), array([ -8.61279932e-06], dtype=float32))\n",
        "(17200, 1.2278178e-11, array([ 1.00000429], dtype=float32), array([ -8.61279932e-06], dtype=float32))\n",
        "(17220, 1.2278178e-11, array([ 1.00000429], dtype=float32), array([ -8.61279932e-06], dtype=float32))"
       ]
      },
      {
       "output_type": "stream",
       "stream": "stdout",
       "text": [
        "\n",
        "(17240, 1.2278178e-11, array([ 1.00000429], dtype=float32), array([ -8.61279932e-06], dtype=float32))\n",
        "(17260, 1.2278178e-11, array([ 1.00000429], dtype=float32), array([ -8.61279932e-06], dtype=float32))\n",
        "(17280, 1.2278178e-11, array([ 1.00000429], dtype=float32), array([ -8.61279932e-06], dtype=float32))\n",
        "(17300, 1.2278178e-11, array([ 1.00000429], dtype=float32), array([ -8.61279932e-06], dtype=float32))\n",
        "(17320, 1.2278178e-11, array([ 1.00000429], dtype=float32), array([ -8.61279932e-06], dtype=float32))\n",
        "(17340, 1.2278178e-11, array([ 1.00000429], dtype=float32), array([ -8.61279932e-06], dtype=float32))\n",
        "(17360, 1.2278178e-11, array([ 1.00000429], dtype=float32), array([ -8.61279932e-06], dtype=float32))"
       ]
      },
      {
       "output_type": "stream",
       "stream": "stdout",
       "text": [
        "\n",
        "(17380, 1.2278178e-11, array([ 1.00000429], dtype=float32), array([ -8.61279932e-06], dtype=float32))\n",
        "(17400, 1.2278178e-11, array([ 1.00000429], dtype=float32), array([ -8.61279932e-06], dtype=float32))\n",
        "(17420, 1.2278178e-11, array([ 1.00000429], dtype=float32), array([ -8.61279932e-06], dtype=float32))\n",
        "(17440, 1.2278178e-11, array([ 1.00000429], dtype=float32), array([ -8.61279932e-06], dtype=float32))\n",
        "(17460, 1.2278178e-11, array([ 1.00000429], dtype=float32), array([ -8.61279932e-06], dtype=float32))\n",
        "(17480, 1.2278178e-11, array([ 1.00000429], dtype=float32), array([ -8.61279932e-06], dtype=float32))\n",
        "(17500, 1.2278178e-11, array([ 1.00000429], dtype=float32), array([ -8.61279932e-06], dtype=float32))"
       ]
      },
      {
       "output_type": "stream",
       "stream": "stdout",
       "text": [
        "\n",
        "(17520, 1.2278178e-11, array([ 1.00000429], dtype=float32), array([ -8.61279932e-06], dtype=float32))\n",
        "(17540, 1.2278178e-11, array([ 1.00000429], dtype=float32), array([ -8.61279932e-06], dtype=float32))\n",
        "(17560, 1.2278178e-11, array([ 1.00000429], dtype=float32), array([ -8.61279932e-06], dtype=float32))\n",
        "(17580, 1.2278178e-11, array([ 1.00000429], dtype=float32), array([ -8.61279932e-06], dtype=float32))\n",
        "(17600, 1.2278178e-11, array([ 1.00000429], dtype=float32), array([ -8.61279932e-06], dtype=float32))\n",
        "(17620, 1.2278178e-11, array([ 1.00000429], dtype=float32), array([ -8.61279932e-06], dtype=float32))\n",
        "(17640, 1.2278178e-11, array([ 1.00000429], dtype=float32), array([ -8.61279932e-06], dtype=float32))"
       ]
      },
      {
       "output_type": "stream",
       "stream": "stdout",
       "text": [
        "\n",
        "(17660, 1.2278178e-11, array([ 1.00000429], dtype=float32), array([ -8.61279932e-06], dtype=float32))\n",
        "(17680, 1.2278178e-11, array([ 1.00000429], dtype=float32), array([ -8.61279932e-06], dtype=float32))\n",
        "(17700, 1.2278178e-11, array([ 1.00000429], dtype=float32), array([ -8.61279932e-06], dtype=float32))\n",
        "(17720, 1.2278178e-11, array([ 1.00000429], dtype=float32), array([ -8.61279932e-06], dtype=float32))\n",
        "(17740, 1.2278178e-11, array([ 1.00000429], dtype=float32), array([ -8.61279932e-06], dtype=float32))\n",
        "(17760, 1.2278178e-11, array([ 1.00000429], dtype=float32), array([ -8.61279932e-06], dtype=float32))\n",
        "(17780, 1.2278178e-11, array([ 1.00000429], dtype=float32), array([ -8.61279932e-06], dtype=float32))"
       ]
      },
      {
       "output_type": "stream",
       "stream": "stdout",
       "text": [
        "\n",
        "(17800, 1.2278178e-11, array([ 1.00000429], dtype=float32), array([ -8.61279932e-06], dtype=float32))\n",
        "(17820, 1.2278178e-11, array([ 1.00000429], dtype=float32), array([ -8.61279932e-06], dtype=float32))\n",
        "(17840, 1.2278178e-11, array([ 1.00000429], dtype=float32), array([ -8.61279932e-06], dtype=float32))\n",
        "(17860, 1.2278178e-11, array([ 1.00000429], dtype=float32), array([ -8.61279932e-06], dtype=float32))\n",
        "(17880, 1.2278178e-11, array([ 1.00000429], dtype=float32), array([ -8.61279932e-06], dtype=float32))\n",
        "(17900, 1.2278178e-11, array([ 1.00000429], dtype=float32), array([ -8.61279932e-06], dtype=float32))"
       ]
      },
      {
       "output_type": "stream",
       "stream": "stdout",
       "text": [
        "\n",
        "(17920, 1.2278178e-11, array([ 1.00000429], dtype=float32), array([ -8.61279932e-06], dtype=float32))\n",
        "(17940, 1.2278178e-11, array([ 1.00000429], dtype=float32), array([ -8.61279932e-06], dtype=float32))\n",
        "(17960, 1.2278178e-11, array([ 1.00000429], dtype=float32), array([ -8.61279932e-06], dtype=float32))\n",
        "(17980, 1.2278178e-11, array([ 1.00000429], dtype=float32), array([ -8.61279932e-06], dtype=float32))\n",
        "(18000, 1.2278178e-11, array([ 1.00000429], dtype=float32), array([ -8.61279932e-06], dtype=float32))\n",
        "(18020, 1.2278178e-11, array([ 1.00000429], dtype=float32), array([ -8.61279932e-06], dtype=float32))"
       ]
      },
      {
       "output_type": "stream",
       "stream": "stdout",
       "text": [
        "\n",
        "(18040, 1.2278178e-11, array([ 1.00000429], dtype=float32), array([ -8.61279932e-06], dtype=float32))\n",
        "(18060, 1.2278178e-11, array([ 1.00000429], dtype=float32), array([ -8.61279932e-06], dtype=float32))\n",
        "(18080, 1.2278178e-11, array([ 1.00000429], dtype=float32), array([ -8.61279932e-06], dtype=float32))\n",
        "(18100, 1.2278178e-11, array([ 1.00000429], dtype=float32), array([ -8.61279932e-06], dtype=float32))\n",
        "(18120, 1.2278178e-11, array([ 1.00000429], dtype=float32), array([ -8.61279932e-06], dtype=float32))\n",
        "(18140, 1.2278178e-11, array([ 1.00000429], dtype=float32), array([ -8.61279932e-06], dtype=float32))"
       ]
      },
      {
       "output_type": "stream",
       "stream": "stdout",
       "text": [
        "\n",
        "(18160, 1.2278178e-11, array([ 1.00000429], dtype=float32), array([ -8.61279932e-06], dtype=float32))\n",
        "(18180, 1.2278178e-11, array([ 1.00000429], dtype=float32), array([ -8.61279932e-06], dtype=float32))\n",
        "(18200, 1.2278178e-11, array([ 1.00000429], dtype=float32), array([ -8.61279932e-06], dtype=float32))\n",
        "(18220, 1.2278178e-11, array([ 1.00000429], dtype=float32), array([ -8.61279932e-06], dtype=float32))\n",
        "(18240, 1.2278178e-11, array([ 1.00000429], dtype=float32), array([ -8.61279932e-06], dtype=float32))\n",
        "(18260, 1.2278178e-11, array([ 1.00000429], dtype=float32), array([ -8.61279932e-06], dtype=float32))\n",
        "(18280, 1.2278178e-11, array([ 1.00000429], dtype=float32), array([ -8.61279932e-06], dtype=float32))"
       ]
      },
      {
       "output_type": "stream",
       "stream": "stdout",
       "text": [
        "\n",
        "(18300, 1.2278178e-11, array([ 1.00000429], dtype=float32), array([ -8.61279932e-06], dtype=float32))\n",
        "(18320, 1.2278178e-11, array([ 1.00000429], dtype=float32), array([ -8.61279932e-06], dtype=float32))\n",
        "(18340, 1.2278178e-11, array([ 1.00000429], dtype=float32), array([ -8.61279932e-06], dtype=float32))\n",
        "(18360, 1.2278178e-11, array([ 1.00000429], dtype=float32), array([ -8.61279932e-06], dtype=float32))\n",
        "(18380, 1.2278178e-11, array([ 1.00000429], dtype=float32), array([ -8.61279932e-06], dtype=float32))\n",
        "(18400, 1.2278178e-11, array([ 1.00000429], dtype=float32), array([ -8.61279932e-06], dtype=float32))"
       ]
      },
      {
       "output_type": "stream",
       "stream": "stdout",
       "text": [
        "\n",
        "(18420, 1.2278178e-11, array([ 1.00000429], dtype=float32), array([ -8.61279932e-06], dtype=float32))\n",
        "(18440, 1.2278178e-11, array([ 1.00000429], dtype=float32), array([ -8.61279932e-06], dtype=float32))\n",
        "(18460, 1.2278178e-11, array([ 1.00000429], dtype=float32), array([ -8.61279932e-06], dtype=float32))\n",
        "(18480, 1.2278178e-11, array([ 1.00000429], dtype=float32), array([ -8.61279932e-06], dtype=float32))\n",
        "(18500, 1.2278178e-11, array([ 1.00000429], dtype=float32), array([ -8.61279932e-06], dtype=float32))\n",
        "(18520, 1.2278178e-11, array([ 1.00000429], dtype=float32), array([ -8.61279932e-06], dtype=float32))"
       ]
      },
      {
       "output_type": "stream",
       "stream": "stdout",
       "text": [
        "\n",
        "(18540, 1.2278178e-11, array([ 1.00000429], dtype=float32), array([ -8.61279932e-06], dtype=float32))\n",
        "(18560, 1.2278178e-11, array([ 1.00000429], dtype=float32), array([ -8.61279932e-06], dtype=float32))\n",
        "(18580, 1.2278178e-11, array([ 1.00000429], dtype=float32), array([ -8.61279932e-06], dtype=float32))\n",
        "(18600, 1.2278178e-11, array([ 1.00000429], dtype=float32), array([ -8.61279932e-06], dtype=float32))\n",
        "(18620, 1.2278178e-11, array([ 1.00000429], dtype=float32), array([ -8.61279932e-06], dtype=float32))\n",
        "(18640, 1.2278178e-11, array([ 1.00000429], dtype=float32), array([ -8.61279932e-06], dtype=float32))\n",
        "(18660, 1.2278178e-11, array([ 1.00000429], dtype=float32), array([ -8.61279932e-06], dtype=float32))"
       ]
      },
      {
       "output_type": "stream",
       "stream": "stdout",
       "text": [
        "\n",
        "(18680, 1.2278178e-11, array([ 1.00000429], dtype=float32), array([ -8.61279932e-06], dtype=float32))\n",
        "(18700, 1.2278178e-11, array([ 1.00000429], dtype=float32), array([ -8.61279932e-06], dtype=float32))\n",
        "(18720, 1.2278178e-11, array([ 1.00000429], dtype=float32), array([ -8.61279932e-06], dtype=float32))\n",
        "(18740, 1.2278178e-11, array([ 1.00000429], dtype=float32), array([ -8.61279932e-06], dtype=float32))\n",
        "(18760, 1.2278178e-11, array([ 1.00000429], dtype=float32), array([ -8.61279932e-06], dtype=float32))\n",
        "(18780, 1.2278178e-11, array([ 1.00000429], dtype=float32), array([ -8.61279932e-06], dtype=float32))\n",
        "(18800, 1.2278178e-11, array([ 1.00000429], dtype=float32), array([ -8.61279932e-06], dtype=float32))"
       ]
      },
      {
       "output_type": "stream",
       "stream": "stdout",
       "text": [
        "\n",
        "(18820, 1.2278178e-11, array([ 1.00000429], dtype=float32), array([ -8.61279932e-06], dtype=float32))\n",
        "(18840, 1.2278178e-11, array([ 1.00000429], dtype=float32), array([ -8.61279932e-06], dtype=float32))\n",
        "(18860, 1.2278178e-11, array([ 1.00000429], dtype=float32), array([ -8.61279932e-06], dtype=float32))\n",
        "(18880, 1.2278178e-11, array([ 1.00000429], dtype=float32), array([ -8.61279932e-06], dtype=float32))\n",
        "(18900, 1.2278178e-11, array([ 1.00000429], dtype=float32), array([ -8.61279932e-06], dtype=float32))\n",
        "(18920, 1.2278178e-11, array([ 1.00000429], dtype=float32), array([ -8.61279932e-06], dtype=float32))\n",
        "(18940, 1.2278178e-11, array([ 1.00000429], dtype=float32), array([ -8.61279932e-06], dtype=float32))"
       ]
      },
      {
       "output_type": "stream",
       "stream": "stdout",
       "text": [
        "\n",
        "(18960, 1.2278178e-11, array([ 1.00000429], dtype=float32), array([ -8.61279932e-06], dtype=float32))\n",
        "(18980, 1.2278178e-11, array([ 1.00000429], dtype=float32), array([ -8.61279932e-06], dtype=float32))\n",
        "(19000, 1.2278178e-11, array([ 1.00000429], dtype=float32), array([ -8.61279932e-06], dtype=float32))\n",
        "(19020, 1.2278178e-11, array([ 1.00000429], dtype=float32), array([ -8.61279932e-06], dtype=float32))\n",
        "(19040, 1.2278178e-11, array([ 1.00000429], dtype=float32), array([ -8.61279932e-06], dtype=float32))\n",
        "(19060, 1.2278178e-11, array([ 1.00000429], dtype=float32), array([ -8.61279932e-06], dtype=float32))\n",
        "(19080, 1.2278178e-11, array([ 1.00000429], dtype=float32), array([ -8.61279932e-06], dtype=float32))"
       ]
      },
      {
       "output_type": "stream",
       "stream": "stdout",
       "text": [
        "\n",
        "(19100, 1.2278178e-11, array([ 1.00000429], dtype=float32), array([ -8.61279932e-06], dtype=float32))\n",
        "(19120, 1.2278178e-11, array([ 1.00000429], dtype=float32), array([ -8.61279932e-06], dtype=float32))\n",
        "(19140, 1.2278178e-11, array([ 1.00000429], dtype=float32), array([ -8.61279932e-06], dtype=float32))\n",
        "(19160, 1.2278178e-11, array([ 1.00000429], dtype=float32), array([ -8.61279932e-06], dtype=float32))\n",
        "(19180, 1.2278178e-11, array([ 1.00000429], dtype=float32), array([ -8.61279932e-06], dtype=float32))\n",
        "(19200, 1.2278178e-11, array([ 1.00000429], dtype=float32), array([ -8.61279932e-06], dtype=float32))\n",
        "(19220, 1.2278178e-11, array([ 1.00000429], dtype=float32), array([ -8.61279932e-06], dtype=float32))\n",
        "(19240, 1.2278178e-11, array([ 1.00000429], dtype=float32), array([ -8.61279932e-06], dtype=float32))"
       ]
      },
      {
       "output_type": "stream",
       "stream": "stdout",
       "text": [
        "\n",
        "(19260, 1.2278178e-11, array([ 1.00000429], dtype=float32), array([ -8.61279932e-06], dtype=float32))\n",
        "(19280, 1.2278178e-11, array([ 1.00000429], dtype=float32), array([ -8.61279932e-06], dtype=float32))\n",
        "(19300, 1.2278178e-11, array([ 1.00000429], dtype=float32), array([ -8.61279932e-06], dtype=float32))\n",
        "(19320, 1.2278178e-11, array([ 1.00000429], dtype=float32), array([ -8.61279932e-06], dtype=float32))\n",
        "(19340, 1.2278178e-11, array([ 1.00000429], dtype=float32), array([ -8.61279932e-06], dtype=float32))\n",
        "(19360, 1.2278178e-11, array([ 1.00000429], dtype=float32), array([ -8.61279932e-06], dtype=float32))\n",
        "(19380, 1.2278178e-11, array([ 1.00000429], dtype=float32), array([ -8.61279932e-06], dtype=float32))"
       ]
      },
      {
       "output_type": "stream",
       "stream": "stdout",
       "text": [
        "\n",
        "(19400, 1.2278178e-11, array([ 1.00000429], dtype=float32), array([ -8.61279932e-06], dtype=float32))\n",
        "(19420, 1.2278178e-11, array([ 1.00000429], dtype=float32), array([ -8.61279932e-06], dtype=float32))\n",
        "(19440, 1.2278178e-11, array([ 1.00000429], dtype=float32), array([ -8.61279932e-06], dtype=float32))\n",
        "(19460, 1.2278178e-11, array([ 1.00000429], dtype=float32), array([ -8.61279932e-06], dtype=float32))\n",
        "(19480, 1.2278178e-11, array([ 1.00000429], dtype=float32), array([ -8.61279932e-06], dtype=float32))\n",
        "(19500, 1.2278178e-11, array([ 1.00000429], dtype=float32), array([ -8.61279932e-06], dtype=float32))\n",
        "(19520, 1.2278178e-11, array([ 1.00000429], dtype=float32), array([ -8.61279932e-06], dtype=float32))"
       ]
      },
      {
       "output_type": "stream",
       "stream": "stdout",
       "text": [
        "\n",
        "(19540, 1.2278178e-11, array([ 1.00000429], dtype=float32), array([ -8.61279932e-06], dtype=float32))\n",
        "(19560, 1.2278178e-11, array([ 1.00000429], dtype=float32), array([ -8.61279932e-06], dtype=float32))\n",
        "(19580, 1.2278178e-11, array([ 1.00000429], dtype=float32), array([ -8.61279932e-06], dtype=float32))\n",
        "(19600, 1.2278178e-11, array([ 1.00000429], dtype=float32), array([ -8.61279932e-06], dtype=float32))\n",
        "(19620, 1.2278178e-11, array([ 1.00000429], dtype=float32), array([ -8.61279932e-06], dtype=float32))\n",
        "(19640, 1.2278178e-11, array([ 1.00000429], dtype=float32), array([ -8.61279932e-06], dtype=float32))\n",
        "(19660, 1.2278178e-11, array([ 1.00000429], dtype=float32), array([ -8.61279932e-06], dtype=float32))"
       ]
      },
      {
       "output_type": "stream",
       "stream": "stdout",
       "text": [
        "\n",
        "(19680, 1.2278178e-11, array([ 1.00000429], dtype=float32), array([ -8.61279932e-06], dtype=float32))\n",
        "(19700, 1.2278178e-11, array([ 1.00000429], dtype=float32), array([ -8.61279932e-06], dtype=float32))\n",
        "(19720, 1.2278178e-11, array([ 1.00000429], dtype=float32), array([ -8.61279932e-06], dtype=float32))\n",
        "(19740, 1.2278178e-11, array([ 1.00000429], dtype=float32), array([ -8.61279932e-06], dtype=float32))\n",
        "(19760, 1.2278178e-11, array([ 1.00000429], dtype=float32), array([ -8.61279932e-06], dtype=float32))\n",
        "(19780, 1.2278178e-11, array([ 1.00000429], dtype=float32), array([ -8.61279932e-06], dtype=float32))\n",
        "(19800, 1.2278178e-11, array([ 1.00000429], dtype=float32), array([ -8.61279932e-06], dtype=float32))"
       ]
      },
      {
       "output_type": "stream",
       "stream": "stdout",
       "text": [
        "\n",
        "(19820, 1.2278178e-11, array([ 1.00000429], dtype=float32), array([ -8.61279932e-06], dtype=float32))\n",
        "(19840, 1.2278178e-11, array([ 1.00000429], dtype=float32), array([ -8.61279932e-06], dtype=float32))\n",
        "(19860, 1.2278178e-11, array([ 1.00000429], dtype=float32), array([ -8.61279932e-06], dtype=float32))\n",
        "(19880, 1.2278178e-11, array([ 1.00000429], dtype=float32), array([ -8.61279932e-06], dtype=float32))\n",
        "(19900, 1.2278178e-11, array([ 1.00000429], dtype=float32), array([ -8.61279932e-06], dtype=float32))\n",
        "(19920, 1.2278178e-11, array([ 1.00000429], dtype=float32), array([ -8.61279932e-06], dtype=float32))\n",
        "(19940, 1.2278178e-11, array([ 1.00000429], dtype=float32), array([ -8.61279932e-06], dtype=float32))"
       ]
      },
      {
       "output_type": "stream",
       "stream": "stdout",
       "text": [
        "\n",
        "(19960, 1.2278178e-11, array([ 1.00000429], dtype=float32), array([ -8.61279932e-06], dtype=float32))\n",
        "(19980, 1.2278178e-11, array([ 1.00000429], dtype=float32), array([ -8.61279932e-06], dtype=float32))\n"
       ]
      }
     ],
     "prompt_number": 18
    },
    {
     "cell_type": "code",
     "collapsed": false,
     "input": [
      "print hypo"
     ],
     "language": "python",
     "metadata": {},
     "outputs": [
      {
       "output_type": "stream",
       "stream": "stdout",
       "text": [
        "Tensor(\"add:0\", shape=(3,), dtype=float32)\n"
       ]
      }
     ],
     "prompt_number": 19
    },
    {
     "cell_type": "code",
     "collapsed": false,
     "input": [
      "print cost"
     ],
     "language": "python",
     "metadata": {},
     "outputs": [
      {
       "output_type": "stream",
       "stream": "stdout",
       "text": [
        "Tensor(\"Mean:0\", shape=(), dtype=float32)\n"
       ]
      }
     ],
     "prompt_number": 20
    },
    {
     "cell_type": "code",
     "collapsed": false,
     "input": [],
     "language": "python",
     "metadata": {},
     "outputs": []
    }
   ],
   "metadata": {}
  }
 ]
}