{
 "metadata": {
  "name": "",
  "signature": "sha256:5879873680b744c357042b031f0d0170aa0fad7bd39db4a17ea94d34265fc185"
 },
 "nbformat": 3,
 "nbformat_minor": 0,
 "worksheets": [
  {
   "cells": [
    {
     "cell_type": "heading",
     "level": 1,
     "metadata": {},
     "source": [
      "Tensorflow - Getting Started"
     ]
    },
    {
     "cell_type": "code",
     "collapsed": false,
     "input": [
      "import tensorflow as tf"
     ],
     "language": "python",
     "metadata": {},
     "outputs": [],
     "prompt_number": 1
    },
    {
     "cell_type": "heading",
     "level": 3,
     "metadata": {},
     "source": [
      "Computational Graph"
     ]
    },
    {
     "cell_type": "code",
     "collapsed": false,
     "input": [
      "#Building Computation graph\n",
      "node1 = tf.constant(3.0, dtype=tf.float32)\n",
      "node2 = tf.constant(4.0)\n",
      "print(node1, node2)"
     ],
     "language": "python",
     "metadata": {},
     "outputs": [
      {
       "output_type": "stream",
       "stream": "stdout",
       "text": [
        "(<tf.Tensor 'Const:0' shape=() dtype=float32>, <tf.Tensor 'Const_1:0' shape=() dtype=float32>)\n"
       ]
      }
     ],
     "prompt_number": 2
    },
    {
     "cell_type": "code",
     "collapsed": false,
     "input": [
      "#Running Computation graph\n",
      "sess = tf.Session()\n",
      "print(sess.run([node1, node2]))"
     ],
     "language": "python",
     "metadata": {},
     "outputs": [
      {
       "output_type": "stream",
       "stream": "stdout",
       "text": [
        "[3.0, 4.0]\n"
       ]
      }
     ],
     "prompt_number": 3
    },
    {
     "cell_type": "heading",
     "level": 4,
     "metadata": {},
     "source": [
      "Adding Constants"
     ]
    },
    {
     "cell_type": "code",
     "collapsed": false,
     "input": [
      "node3 = tf.add(node1, node2)\n",
      "print (\"node3:\", node3)\n",
      "print \"sess.run(node3)\",sess.run(node3)"
     ],
     "language": "python",
     "metadata": {},
     "outputs": [
      {
       "output_type": "stream",
       "stream": "stdout",
       "text": [
        "('node3:', <tf.Tensor 'Add_2:0' shape=() dtype=float32>)\n",
        "sess.run(node3) 7.0\n"
       ]
      }
     ],
     "prompt_number": 6
    },
    {
     "cell_type": "heading",
     "level": 3,
     "metadata": {},
     "source": [
      "Accepting External Inputs - Placeholders"
     ]
    },
    {
     "cell_type": "code",
     "collapsed": false,
     "input": [
      "a = tf.placeholder(tf.float32)\n",
      "b = tf.placeholder(tf.float32)\n",
      "adder_node = a +b "
     ],
     "language": "python",
     "metadata": {},
     "outputs": [],
     "prompt_number": 7
    },
    {
     "cell_type": "code",
     "collapsed": false,
     "input": [
      "print sess.run(adder_node,{a:4,b:9.1})"
     ],
     "language": "python",
     "metadata": {},
     "outputs": [
      {
       "output_type": "stream",
       "stream": "stdout",
       "text": [
        "13.1\n"
       ]
      }
     ],
     "prompt_number": 8
    },
    {
     "cell_type": "code",
     "collapsed": false,
     "input": [
      "print sess.run(adder_node,{a:[3,5],b:[4,8]})"
     ],
     "language": "python",
     "metadata": {},
     "outputs": [
      {
       "output_type": "stream",
       "stream": "stdout",
       "text": [
        "[  7.  13.]\n"
       ]
      }
     ],
     "prompt_number": 9
    },
    {
     "cell_type": "heading",
     "level": 3,
     "metadata": {},
     "source": [
      "Complexing operations using placeholders"
     ]
    },
    {
     "cell_type": "code",
     "collapsed": false,
     "input": [
      "add_and_triple = adder_node * 3.\n",
      "print sess.run(add_and_triple, {a:[4,6],b:[9,1]})"
     ],
     "language": "python",
     "metadata": {},
     "outputs": [
      {
       "output_type": "stream",
       "stream": "stdout",
       "text": [
        "[ 39.  21.]\n"
       ]
      }
     ],
     "prompt_number": 11
    },
    {
     "cell_type": "heading",
     "level": 2,
     "metadata": {},
     "source": [
      "Variables"
     ]
    },
    {
     "cell_type": "code",
     "collapsed": false,
     "input": [
      "w = tf.Variable([.3],dtype=tf.float32)\n",
      "b = tf.Variable([-.3], dtype=tf.float32)\n",
      "x = tf.placeholder(tf.float32)\n",
      "linear_model = w * x +b"
     ],
     "language": "python",
     "metadata": {},
     "outputs": [],
     "prompt_number": 12
    },
    {
     "cell_type": "code",
     "collapsed": false,
     "input": [
      "init = tf.global_variables_initializer()\n",
      "sess.run(init)"
     ],
     "language": "python",
     "metadata": {},
     "outputs": [],
     "prompt_number": 14
    },
    {
     "cell_type": "code",
     "collapsed": false,
     "input": [
      "print sess.run(linear_model, {x:[1,2,3,4]})"
     ],
     "language": "python",
     "metadata": {},
     "outputs": [
      {
       "output_type": "stream",
       "stream": "stdout",
       "text": [
        "[ 0.          0.30000001  0.60000002  0.90000004]\n"
       ]
      }
     ],
     "prompt_number": 15
    },
    {
     "cell_type": "heading",
     "level": 4,
     "metadata": {},
     "source": [
      "Loss Function"
     ]
    },
    {
     "cell_type": "code",
     "collapsed": false,
     "input": [
      "y = tf.placeholder(tf.float32)\n",
      "squared_deltas = tf.square(linear_model - y)\n",
      "loss = tf.reduce_sum(squared_deltas)\n",
      "print sess.run(loss, {x:[1,2,3,4], y:[0,-1,-2,-3]})"
     ],
     "language": "python",
     "metadata": {},
     "outputs": [
      {
       "output_type": "stream",
       "stream": "stdout",
       "text": [
        "23.66\n"
       ]
      }
     ],
     "prompt_number": 17
    },
    {
     "cell_type": "heading",
     "level": 5,
     "metadata": {},
     "source": [
      "Reassigning the Variable to minimise loss"
     ]
    },
    {
     "cell_type": "code",
     "collapsed": false,
     "input": [
      "new_w = tf.assign(w,[-1.])\n",
      "new_b = tf.assign(b,[1.])\n",
      "sess.run([new_w, new_b])\n",
      "print(sess.run(loss, {x:[1,2,3,4],y:[0,-1,-2,-3]}))"
     ],
     "language": "python",
     "metadata": {},
     "outputs": [
      {
       "output_type": "stream",
       "stream": "stdout",
       "text": [
        "0.0\n"
       ]
      }
     ],
     "prompt_number": 18
    },
    {
     "cell_type": "code",
     "collapsed": false,
     "input": [],
     "language": "python",
     "metadata": {},
     "outputs": []
    }
   ],
   "metadata": {}
  }
 ]
}